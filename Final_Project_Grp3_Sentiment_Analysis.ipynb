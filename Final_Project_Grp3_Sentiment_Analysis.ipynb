{
 "cells": [
  {
   "cell_type": "markdown",
   "metadata": {},
   "source": [
    "### Group 3 : Sentiment Analysis"
   ]
  },
  {
   "cell_type": "code",
   "execution_count": 1,
   "metadata": {},
   "outputs": [
    {
     "name": "stderr",
     "output_type": "stream",
     "text": [
      "[nltk_data] Downloading package punkt to\n",
      "[nltk_data]     C:\\Users\\isanj\\AppData\\Roaming\\nltk_data...\n",
      "[nltk_data]   Package punkt is already up-to-date!\n",
      "[nltk_data] Downloading package vader_lexicon to\n",
      "[nltk_data]     C:\\Users\\isanj\\AppData\\Roaming\\nltk_data...\n",
      "[nltk_data]   Package vader_lexicon is already up-to-date!\n"
     ]
    }
   ],
   "source": [
    "import pandas as pd\n",
    "import numpy as np\n",
    "import csv\n",
    "import urllib\n",
    "import re\n",
    "import string # to remove puntuations\n",
    "import nltk\n",
    "nltk.download('punkt')\n",
    "nltk.download('vader_lexicon')\n",
    "import matplotlib.pyplot as plt\n",
    "from sklearn.feature_extraction.text import CountVectorizer\n",
    "from nltk.tokenize import word_tokenize, RegexpTokenizer\n",
    "from nltk.sentiment.vader import SentimentIntensityAnalyzer\n",
    "from vaderSentiment.vaderSentiment import SentimentIntensityAnalyzer\n",
    "from nltk.stem.porter import PorterStemmer\n",
    "from sklearn.naive_bayes import MultinomialNB\n",
    "from sklearn import metrics\n",
    "from nltk.corpus import stopwords\n",
    "from nltk import word_tokenize\n",
    "from textblob import TextBlob"
   ]
  },
  {
   "cell_type": "code",
   "execution_count": 2,
   "metadata": {},
   "outputs": [
    {
     "data": {
      "text/plain": [
       "Sentiment(polarity=-0.0765151515151515, subjectivity=0.48569023569023567)"
      ]
     },
     "execution_count": 2,
     "metadata": {},
     "output_type": "execute_result"
    }
   ],
   "source": [
    "## Testing my codes:\n",
    "\n",
    "review = TextBlob('''We arrived at the JFK airport in New York at 7.10 on a Tuesday. Apron arrival of the baggage claim, we were met with bad service and poo4r customer service. After waiting for an hour for our flight we went to the baggage service area. The workers obviously had better things to do, as it took them another hour to contact their manager. When they finally came, she just sat in the office typing away not helping us or giving us any updates except for saying that they were in fact loaded onto our plane and taken off, but they are unable to figure out where they were. I am on my way to a safari in South Africa, and was already pressed for time. There were two other people waiting there with us who had the same problem. I guess that paying for priority doesn’t mater because, in the end, we still lost our luggage. The moral of the story here is be cautious when flying and try to avoid Delta Air Lines.''')\n",
    "review.sentiment"
   ]
  },
  {
   "cell_type": "code",
   "execution_count": 3,
   "metadata": {},
   "outputs": [
    {
     "name": "stdout",
     "output_type": "stream",
     "text": [
      " Word Tokenize :\n",
      " ['we', 'arrived', 'at', 'the', 'jfk', 'airport', 'in', 'new', 'york', 'at', '7.10', 'on', 'a', 'tuesday', 'apron', 'arrival', 'of', 'the', 'baggage', 'claim', 'we', 'were', 'met', 'with', 'bad', 'service', 'and', 'poo4r', 'customer', 'service', 'after', 'waiting', 'for', 'an', 'hour', 'for', 'our', 'flight', 'we', 'went', 'to', 'the', 'baggage', 'service', 'area', 'the', 'workers', 'obviously', 'had', 'better', 'things', 'to', 'do', 'as', 'it', 'took', 'them', 'another', 'hour', 'to', 'contact', 'their', 'manager', 'when', 'they', 'finally', 'came', 'she', 'just', 'sat', 'in', 'the', 'office', 'typing', 'away', 'not', 'helping', 'us', 'or', 'giving', 'us', 'any', 'updates', 'except', 'for', 'saying', 'that', 'they', 'were', 'in', 'fact', 'loaded', 'onto', 'our', 'plane', 'and', 'taken', 'off', 'but', 'they', 'are', 'unable', 'to', 'figure', 'out', 'where', 'they', 'were', 'i', 'am', 'on', 'my', 'way', 'to', 'a', 'safari', 'in', 'south', 'africa', 'and', 'was', 'already', 'pressed', 'for', 'time', 'there', 'were', 'two', 'other', 'people', 'waiting', 'there', 'with', 'us', 'who', 'had', 'the', 'same', 'problem', 'i', 'guess', 'that', 'paying', 'for', 'priority', 'doesn', '’', 't', 'mater', 'because', 'in', 'the', 'end', 'we', 'still', 'lost', 'our', 'luggage', 'the', 'moral', 'of', 'the', 'story', 'here', 'is', 'be', 'cautious', 'when', 'flying', 'and', 'try', 'to', 'avoid', 'delta', 'air', 'lines']\n",
      "\n",
      "\n",
      "Clean data:\n",
      " ['arrived', 'jfk', 'airport', 'new', 'york', '7', '10', 'tuesday', 'apron', 'arrival', 'baggage', 'claim', 'met', 'bad', 'service', 'poo4r', 'customer', 'service', 'waiting', 'hour', 'flight', 'went', 'baggage', 'service', 'area', 'workers', 'obviously', 'better', 'things', 'took', 'another', 'hour', 'contact', 'manager', 'finally', 'came', 'sat', 'office', 'typing', 'away', 'helping', 'us', 'giving', 'us', 'updates', 'except', 'saying', 'fact', 'loaded', 'onto', 'plane', 'taken', 'unable', 'figure', 'way', 'safari', 'south', 'africa', 'already', 'pressed', 'time', 'two', 'people', 'waiting', 'us', 'problem', 'guess', 'paying', 'priority', 'mater', 'end', 'still', 'lost', 'luggage', 'moral', 'story', 'cautious', 'flying', 'try', 'avoid', 'delta', 'air', 'lines']\n"
     ]
    }
   ],
   "source": [
    "## CLEANING THE TEXT\n",
    "\n",
    "### Lower case \n",
    "\n",
    "review_lower= review.lower()\n",
    "\n",
    "\n",
    "### tokenize(Separate) paragraph into words.\n",
    "\n",
    "review_token = review_lower.words\n",
    "print(\" Word Tokenize :\\n\", review_token)\n",
    "\n",
    "### Remove punctuations\n",
    "\n",
    "token= RegexpTokenizer(r'\\w+')\n",
    "review_punkt = token.tokenize(str(review_token))\n",
    "\n",
    "\n",
    "### Remove stop words from a text\n",
    "\n",
    "stop_words = set(stopwords.words('english'))\n",
    "\n",
    "filtered_word = [w for w in review_punkt if not w in stop_words] \n",
    "  \n",
    "filtered_word = [] \n",
    "  \n",
    "for w in review_punkt: \n",
    "    if w not in stop_words: \n",
    "        filtered_word.append(w)    \n",
    "#print(word_tokens)\n",
    "print(\"\\n\" )\n",
    "print(\"Clean data:\\n\", filtered_word)"
   ]
  },
  {
   "cell_type": "code",
   "execution_count": 4,
   "metadata": {},
   "outputs": [
    {
     "name": "stdout",
     "output_type": "stream",
     "text": [
      "{'arrived': 9, 'jfk': 32, 'airport': 3, 'new': 41, 'york': 74, '10': 0, 'tuesday': 64, 'apron': 6, 'arrival': 8, 'baggage': 13, 'claim': 17, 'met': 39, 'bad': 12, 'service': 55, 'poo4r': 48, 'customer': 19, 'waiting': 70, 'hour': 31, 'flight': 26, 'went': 72, 'area': 7, 'workers': 73, 'obviously': 42, 'better': 14, 'things': 60, 'took': 62, 'another': 5, 'contact': 18, 'manager': 37, 'finally': 25, 'came': 15, 'sat': 53, 'office': 43, 'typing': 66, 'away': 11, 'helping': 30, 'us': 69, 'giving': 28, 'updates': 68, 'except': 22, 'saying': 54, 'fact': 23, 'loaded': 34, 'onto': 44, 'plane': 47, 'taken': 59, 'unable': 67, 'figure': 24, 'way': 71, 'safari': 52, 'south': 56, 'africa': 1, 'already': 4, 'pressed': 49, 'time': 61, 'two': 65, 'people': 46, 'problem': 51, 'guess': 29, 'paying': 45, 'priority': 50, 'mater': 38, 'end': 21, 'still': 57, 'lost': 35, 'luggage': 36, 'moral': 40, 'story': 58, 'cautious': 16, 'flying': 27, 'try': 63, 'avoid': 10, 'delta': 20, 'air': 2, 'lines': 33}\n"
     ]
    }
   ],
   "source": [
    "# fit my data into a count vectorizer.  It will assign a number to each word.\n",
    "\n",
    "vectorizer  = CountVectorizer()\n",
    "vectorizer.fit(filtered_word)\n",
    "\n",
    "print(vectorizer.vocabulary_)"
   ]
  },
  {
   "cell_type": "code",
   "execution_count": 5,
   "metadata": {},
   "outputs": [
    {
     "name": "stdout",
     "output_type": "stream",
     "text": [
      "  (0, 9)\t1\n",
      "  (1, 32)\t1\n",
      "  (2, 3)\t1\n",
      "  (3, 41)\t1\n",
      "  (4, 74)\t1\n"
     ]
    }
   ],
   "source": [
    "## Transform my data\n",
    "\n",
    "vector = vectorizer.transform(filtered_word)\n",
    "print(vector[:5])"
   ]
  },
  {
   "cell_type": "code",
   "execution_count": 6,
   "metadata": {},
   "outputs": [
    {
     "name": "stdout",
     "output_type": "stream",
     "text": [
      "Requirement already satisfied: vaderSentiment in c:\\programdata\\anaconda3\\lib\\site-packages (3.3.2)\n",
      "Requirement already satisfied: requests in c:\\programdata\\anaconda3\\lib\\site-packages (from vaderSentiment) (2.21.0)\n",
      "Requirement already satisfied: urllib3<1.25,>=1.21.1 in c:\\programdata\\anaconda3\\lib\\site-packages (from requests->vaderSentiment) (1.24.1)\n",
      "Requirement already satisfied: certifi>=2017.4.17 in c:\\programdata\\anaconda3\\lib\\site-packages (from requests->vaderSentiment) (2019.6.16)\n",
      "Requirement already satisfied: chardet<3.1.0,>=3.0.2 in c:\\programdata\\anaconda3\\lib\\site-packages (from requests->vaderSentiment) (3.0.4)\n",
      "Requirement already satisfied: idna<2.9,>=2.5 in c:\\programdata\\anaconda3\\lib\\site-packages (from requests->vaderSentiment) (2.8)\n"
     ]
    }
   ],
   "source": [
    "!pip install vaderSentiment"
   ]
  },
  {
   "cell_type": "code",
   "execution_count": 7,
   "metadata": {},
   "outputs": [],
   "source": [
    "## sentiment analysis using VADER.\n",
    "\n",
    "\n",
    "# function to print sentiments \n",
    " \n",
    "def vader_sentiment_scores(text): \n",
    "  \n",
    "    # Define SentimentIntensityAnalyzer object of VADER. \n",
    "    SIA_obj = SentimentIntensityAnalyzer() \n",
    "  \n",
    "    # calculate polarity scores which gives a sentiment dictionary, \n",
    "    # Contains pos, neg, neu, and compound scores.\n",
    " \n",
    "    polarity_dict = SIA_obj.polarity_scores(text) \n",
    "      \n",
    "    print(\"Raw sentiment dictionary : \", polarity_dict) \n",
    "    print(\"polarity percentage of sentence \", polarity_dict['neg']*100, \"% :: Negative\") \n",
    "    print(\"polarity percentage of sentence \", polarity_dict['neu']*100, \"% :: Neutral\") \n",
    "    print(\"polarity percentage of sentence \", polarity_dict['pos']*100, \"% :: Positive\") \n",
    "  \n",
    "    print(\"Overall polarity percentage of sentence\", end = \" :: \") \n",
    "  \n",
    "    # Calculate overall sentiment by compound score\n",
    "    if polarity_dict['compound'] >= 0.05 : \n",
    "        print(\"Positive\") \n",
    "  \n",
    "    elif polarity_dict['compound'] <= - 0.05 : \n",
    "        print(\"Negative\") \n",
    "  \n",
    "    else : \n",
    "        print(\"Neutral\")"
   ]
  },
  {
   "cell_type": "code",
   "execution_count": 8,
   "metadata": {},
   "outputs": [
    {
     "name": "stdout",
     "output_type": "stream",
     "text": [
      "Raw sentiment dictionary :  {'neg': 0.079, 'neu': 0.901, 'pos': 0.02, 'compound': -0.8733}\n",
      "polarity percentage of sentence  7.9 % :: Negative\n",
      "polarity percentage of sentence  90.10000000000001 % :: Neutral\n",
      "polarity percentage of sentence  2.0 % :: Positive\n",
      "Overall polarity percentage of sentence :: Negative\n"
     ]
    }
   ],
   "source": [
    "## Test how VADER sentiment performs\n",
    "\n",
    "vader_sentiment_scores(review_lower)"
   ]
  },
  {
   "cell_type": "markdown",
   "metadata": {},
   "source": [
    "### Pandas DataFrame"
   ]
  },
  {
   "cell_type": "code",
   "execution_count": 9,
   "metadata": {},
   "outputs": [
    {
     "data": {
      "text/html": [
       "<div>\n",
       "<style scoped>\n",
       "    .dataframe tbody tr th:only-of-type {\n",
       "        vertical-align: middle;\n",
       "    }\n",
       "\n",
       "    .dataframe tbody tr th {\n",
       "        vertical-align: top;\n",
       "    }\n",
       "\n",
       "    .dataframe thead th {\n",
       "        text-align: right;\n",
       "    }\n",
       "</style>\n",
       "<table border=\"1\" class=\"dataframe\">\n",
       "  <thead>\n",
       "    <tr style=\"text-align: right;\">\n",
       "      <th></th>\n",
       "      <th>Customer_Nationality</th>\n",
       "      <th>Date</th>\n",
       "      <th>Reviews</th>\n",
       "    </tr>\n",
       "  </thead>\n",
       "  <tbody>\n",
       "    <tr>\n",
       "      <th>0</th>\n",
       "      <td>UK</td>\n",
       "      <td>Mar-20</td>\n",
       "      <td>Worst airport Ive ever arrived into. Huge queu...</td>\n",
       "    </tr>\n",
       "    <tr>\n",
       "      <th>1</th>\n",
       "      <td>US</td>\n",
       "      <td>Mar-20</td>\n",
       "      <td>The security line set up is totally unreasonab...</td>\n",
       "    </tr>\n",
       "    <tr>\n",
       "      <th>2</th>\n",
       "      <td>UK</td>\n",
       "      <td>Feb-20</td>\n",
       "      <td>Dreadful experience! Nearly 3 hour wait with t...</td>\n",
       "    </tr>\n",
       "    <tr>\n",
       "      <th>3</th>\n",
       "      <td>Jordan</td>\n",
       "      <td>Jan-20</td>\n",
       "      <td>Worst ever arrival immigration process globall...</td>\n",
       "    </tr>\n",
       "    <tr>\n",
       "      <th>4</th>\n",
       "      <td>UK</td>\n",
       "      <td>Jan-20</td>\n",
       "      <td>Hundreds of people awaiting to get through arr...</td>\n",
       "    </tr>\n",
       "  </tbody>\n",
       "</table>\n",
       "</div>"
      ],
      "text/plain": [
       "  Customer_Nationality    Date  \\\n",
       "0                   UK  Mar-20   \n",
       "1                   US  Mar-20   \n",
       "2                   UK  Feb-20   \n",
       "3               Jordan  Jan-20   \n",
       "4                   UK  Jan-20   \n",
       "\n",
       "                                             Reviews  \n",
       "0  Worst airport Ive ever arrived into. Huge queu...  \n",
       "1  The security line set up is totally unreasonab...  \n",
       "2  Dreadful experience! Nearly 3 hour wait with t...  \n",
       "3  Worst ever arrival immigration process globall...  \n",
       "4  Hundreds of people awaiting to get through arr...  "
      ]
     },
     "execution_count": 9,
     "metadata": {},
     "output_type": "execute_result"
    }
   ],
   "source": [
    "#  We created a CSV file where we saved all the customers reviews on JFK airport\n",
    "\n",
    "with open(\"C:/Users/isanj/OneDrive/Desktop/JFK Customers reviews.csv\", encoding=\"utf8\", errors='ignore') as f:\n",
    "     df_sen = pd.read_csv(f)\n",
    "df_sen.head(5)\n"
   ]
  },
  {
   "cell_type": "code",
   "execution_count": 10,
   "metadata": {},
   "outputs": [
    {
     "data": {
      "text/html": [
       "<div>\n",
       "<style scoped>\n",
       "    .dataframe tbody tr th:only-of-type {\n",
       "        vertical-align: middle;\n",
       "    }\n",
       "\n",
       "    .dataframe tbody tr th {\n",
       "        vertical-align: top;\n",
       "    }\n",
       "\n",
       "    .dataframe thead th {\n",
       "        text-align: right;\n",
       "    }\n",
       "</style>\n",
       "<table border=\"1\" class=\"dataframe\">\n",
       "  <thead>\n",
       "    <tr style=\"text-align: right;\">\n",
       "      <th></th>\n",
       "      <th>Customer_Nationality</th>\n",
       "      <th>Date</th>\n",
       "      <th>Reviews</th>\n",
       "      <th>Polarity</th>\n",
       "      <th>Subjectivity</th>\n",
       "    </tr>\n",
       "  </thead>\n",
       "  <tbody>\n",
       "    <tr>\n",
       "      <th>0</th>\n",
       "      <td>UK</td>\n",
       "      <td>Mar-20</td>\n",
       "      <td>Worst airport Ive ever arrived into. Huge queu...</td>\n",
       "      <td>-0.195000</td>\n",
       "      <td>0.532500</td>\n",
       "    </tr>\n",
       "    <tr>\n",
       "      <th>1</th>\n",
       "      <td>US</td>\n",
       "      <td>Mar-20</td>\n",
       "      <td>The security line set up is totally unreasonab...</td>\n",
       "      <td>0.110417</td>\n",
       "      <td>0.474306</td>\n",
       "    </tr>\n",
       "    <tr>\n",
       "      <th>2</th>\n",
       "      <td>UK</td>\n",
       "      <td>Feb-20</td>\n",
       "      <td>Dreadful experience! Nearly 3 hour wait with t...</td>\n",
       "      <td>-0.380000</td>\n",
       "      <td>0.760000</td>\n",
       "    </tr>\n",
       "    <tr>\n",
       "      <th>3</th>\n",
       "      <td>Jordan</td>\n",
       "      <td>Jan-20</td>\n",
       "      <td>Worst ever arrival immigration process globall...</td>\n",
       "      <td>-0.250000</td>\n",
       "      <td>0.656250</td>\n",
       "    </tr>\n",
       "    <tr>\n",
       "      <th>4</th>\n",
       "      <td>UK</td>\n",
       "      <td>Jan-20</td>\n",
       "      <td>Hundreds of people awaiting to get through arr...</td>\n",
       "      <td>0.033333</td>\n",
       "      <td>0.633333</td>\n",
       "    </tr>\n",
       "  </tbody>\n",
       "</table>\n",
       "</div>"
      ],
      "text/plain": [
       "  Customer_Nationality    Date  \\\n",
       "0                   UK  Mar-20   \n",
       "1                   US  Mar-20   \n",
       "2                   UK  Feb-20   \n",
       "3               Jordan  Jan-20   \n",
       "4                   UK  Jan-20   \n",
       "\n",
       "                                             Reviews  Polarity  Subjectivity  \n",
       "0  Worst airport Ive ever arrived into. Huge queu... -0.195000      0.532500  \n",
       "1  The security line set up is totally unreasonab...  0.110417      0.474306  \n",
       "2  Dreadful experience! Nearly 3 hour wait with t... -0.380000      0.760000  \n",
       "3  Worst ever arrival immigration process globall... -0.250000      0.656250  \n",
       "4  Hundreds of people awaiting to get through arr...  0.033333      0.633333  "
      ]
     },
     "execution_count": 10,
     "metadata": {},
     "output_type": "execute_result"
    }
   ],
   "source": [
    "# Create new df columns based on Polarity and Subjectivity of the texts.\n",
    "\n",
    "pol = lambda x: TextBlob(x).sentiment.polarity\n",
    "sub = lambda x: TextBlob(x).sentiment.subjectivity\n",
    "\n",
    "df_sen['Polarity'] = df_sen['Reviews'].apply(pol)\n",
    "df_sen['Subjectivity'] = df_sen['Reviews'].apply(sub)\n",
    "df_sen.head()"
   ]
  },
  {
   "cell_type": "code",
   "execution_count": 11,
   "metadata": {},
   "outputs": [
    {
     "data": {
      "text/html": [
       "<div>\n",
       "<style scoped>\n",
       "    .dataframe tbody tr th:only-of-type {\n",
       "        vertical-align: middle;\n",
       "    }\n",
       "\n",
       "    .dataframe tbody tr th {\n",
       "        vertical-align: top;\n",
       "    }\n",
       "\n",
       "    .dataframe thead th {\n",
       "        text-align: right;\n",
       "    }\n",
       "</style>\n",
       "<table border=\"1\" class=\"dataframe\">\n",
       "  <thead>\n",
       "    <tr style=\"text-align: right;\">\n",
       "      <th></th>\n",
       "      <th>count</th>\n",
       "      <th>mean</th>\n",
       "      <th>std</th>\n",
       "      <th>min</th>\n",
       "      <th>25%</th>\n",
       "      <th>50%</th>\n",
       "      <th>75%</th>\n",
       "      <th>max</th>\n",
       "    </tr>\n",
       "  </thead>\n",
       "  <tbody>\n",
       "    <tr>\n",
       "      <th>Polarity</th>\n",
       "      <td>67.0</td>\n",
       "      <td>-0.100277</td>\n",
       "      <td>0.166938</td>\n",
       "      <td>-0.56</td>\n",
       "      <td>-0.236063</td>\n",
       "      <td>-0.098030</td>\n",
       "      <td>0.023140</td>\n",
       "      <td>0.206503</td>\n",
       "    </tr>\n",
       "    <tr>\n",
       "      <th>Subjectivity</th>\n",
       "      <td>67.0</td>\n",
       "      <td>0.544742</td>\n",
       "      <td>0.139224</td>\n",
       "      <td>0.00</td>\n",
       "      <td>0.484773</td>\n",
       "      <td>0.559375</td>\n",
       "      <td>0.632275</td>\n",
       "      <td>0.870000</td>\n",
       "    </tr>\n",
       "  </tbody>\n",
       "</table>\n",
       "</div>"
      ],
      "text/plain": [
       "              count      mean       std   min       25%       50%       75%  \\\n",
       "Polarity       67.0 -0.100277  0.166938 -0.56 -0.236063 -0.098030  0.023140   \n",
       "Subjectivity   67.0  0.544742  0.139224  0.00  0.484773  0.559375  0.632275   \n",
       "\n",
       "                   max  \n",
       "Polarity      0.206503  \n",
       "Subjectivity  0.870000  "
      ]
     },
     "execution_count": 11,
     "metadata": {},
     "output_type": "execute_result"
    }
   ],
   "source": [
    "# View the statistical details of the dataframe\n",
    "\n",
    "df_sen.describe().transpose()"
   ]
  },
  {
   "cell_type": "code",
   "execution_count": 12,
   "metadata": {},
   "outputs": [
    {
     "data": {
      "image/png": "[encoded data removed]",
      "text/plain": [
       "<Figure size 504x288 with 1 Axes>"
      ]
     },
     "metadata": {
      "needs_background": "light"
     },
     "output_type": "display_data"
    }
   ],
   "source": [
    "# Plot the results\n",
    "import matplotlib.pyplot as plt\n",
    "\n",
    "df_sen.plot.scatter(x ='Polarity', y ='Subjectivity', color = 'green', figsize =[7, 4])    \n",
    "plt.title('TextBlob Sentiment Analysis', fontsize=20)\n",
    "plt.xlabel('Polarity: <-- Negative --- Positive -->', fontsize=15)\n",
    "plt.ylabel('Subjectivity: <-- Facts --- Opinions -->', fontsize=15)\n",
    "plt.axvline(0.0, color = 'r')\n",
    "plt.axhline(0.5, color = 'y')\n",
    "    \n",
    "plt.show()"
   ]
  },
  {
   "cell_type": "code",
   "execution_count": 13,
   "metadata": {},
   "outputs": [
    {
     "data": {
      "text/plain": [
       "44"
      ]
     },
     "execution_count": 13,
     "metadata": {},
     "output_type": "execute_result"
    }
   ],
   "source": [
    "# Count rows with negative polarity\n",
    "\n",
    "sum(n < 0 for n in df_sen[\"Polarity\"]) # To calculate the % of negative reviews"
   ]
  },
  {
   "cell_type": "code",
   "execution_count": 14,
   "metadata": {},
   "outputs": [
    {
     "data": {
      "text/plain": [
       "array([[<matplotlib.axes._subplots.AxesSubplot object at 0x000001C21871AAC8>,\n",
       "        <matplotlib.axes._subplots.AxesSubplot object at 0x000001C218A72198>,\n",
       "        <matplotlib.axes._subplots.AxesSubplot object at 0x000001C218A86198>,\n",
       "        <matplotlib.axes._subplots.AxesSubplot object at 0x000001C218AA0668>],\n",
       "       [<matplotlib.axes._subplots.AxesSubplot object at 0x000001C2184F6A90>,\n",
       "        <matplotlib.axes._subplots.AxesSubplot object at 0x000001C21919EDA0>,\n",
       "        <matplotlib.axes._subplots.AxesSubplot object at 0x000001C2191D3048>,\n",
       "        <matplotlib.axes._subplots.AxesSubplot object at 0x000001C2191FA2E8>],\n",
       "       [<matplotlib.axes._subplots.AxesSubplot object at 0x000001C2191FA320>,\n",
       "        <matplotlib.axes._subplots.AxesSubplot object at 0x000001C219249D30>,\n",
       "        <matplotlib.axes._subplots.AxesSubplot object at 0x000001C2192772E8>,\n",
       "        <matplotlib.axes._subplots.AxesSubplot object at 0x000001C21929B860>],\n",
       "       [<matplotlib.axes._subplots.AxesSubplot object at 0x000001C2192C4DD8>,\n",
       "        <matplotlib.axes._subplots.AxesSubplot object at 0x000001C2192F5390>,\n",
       "        <matplotlib.axes._subplots.AxesSubplot object at 0x000001C21931A908>,\n",
       "        <matplotlib.axes._subplots.AxesSubplot object at 0x000001C219345E80>]],\n",
       "      dtype=object)"
      ]
     },
     "execution_count": 14,
     "metadata": {},
     "output_type": "execute_result"
    },
    {
     "data": {
      "image/png": "[encoded data removed]",
      "text/plain": [
       "<Figure size 576x432 with 16 Axes>"
      ]
     },
     "metadata": {
      "needs_background": "light"
     },
     "output_type": "display_data"
    }
   ],
   "source": [
    "# Plot the polarity column by nationality\n",
    "\n",
    "df_sen.hist(by='Customer_Nationality',\n",
    "       column='Polarity',\n",
    "       figsize=[8,6])"
   ]
  },
  {
   "cell_type": "code",
   "execution_count": 15,
   "metadata": {},
   "outputs": [
    {
     "data": {
      "text/plain": [
       "<matplotlib.axes._subplots.AxesSubplot at 0x1c2195ce400>"
      ]
     },
     "execution_count": 15,
     "metadata": {},
     "output_type": "execute_result"
    },
    {
     "data": {
      "image/png": "[encoded data removed]",
      "text/plain": [
       "<Figure size 432x288 with 1 Axes>"
      ]
     },
     "metadata": {},
     "output_type": "display_data"
    }
   ],
   "source": [
    "#Let's see the number of reviews by passengers' nationality\n",
    "\n",
    "df_sen.Customer_Nationality.value_counts().plot(kind='pie', autopct='%1.0f%%')"
   ]
  },
  {
   "cell_type": "code",
   "execution_count": 16,
   "metadata": {},
   "outputs": [
    {
     "data": {
      "text/plain": [
       "<matplotlib.axes._subplots.AxesSubplot at 0x1c21871a1d0>"
      ]
     },
     "execution_count": 16,
     "metadata": {},
     "output_type": "execute_result"
    },
    {
     "data": {
      "image/png": "[encoded data removed]",
      "text/plain": [
       "<Figure size 432x288 with 1 Axes>"
      ]
     },
     "metadata": {},
     "output_type": "display_data"
    }
   ],
   "source": [
    "#Let's see the monthly percentage reviews \n",
    "\n",
    "df_sen.Date.value_counts().plot(kind='pie', autopct='%1.0f%%')"
   ]
  },
  {
   "cell_type": "code",
   "execution_count": 17,
   "metadata": {},
   "outputs": [
    {
     "data": {
      "image/png": "[encoded data removed]",
      "text/plain": [
       "<Figure size 432x288 with 1 Axes>"
      ]
     },
     "metadata": {
      "needs_background": "light"
     },
     "output_type": "display_data"
    }
   ],
   "source": [
    "# Line plot\n",
    "\n",
    "df_sen.plot(x ='Customer_Nationality', y='Polarity', kind = 'line')\n",
    "plt.axhline(linewidth=1, color='r') # draw a hline at 'y' = 0\n",
    "plt.show()"
   ]
  },
  {
   "cell_type": "markdown",
   "metadata": {},
   "source": [
    "### Sentiment analysis using  Vader NLTK"
   ]
  },
  {
   "cell_type": "code",
   "execution_count": 18,
   "metadata": {
    "scrolled": false
   },
   "outputs": [
    {
     "name": "stderr",
     "output_type": "stream",
     "text": [
      "[nltk_data] Downloading package vader_lexicon to\n",
      "[nltk_data]     C:\\Users\\isanj\\AppData\\Roaming\\nltk_data...\n",
      "[nltk_data]   Package vader_lexicon is already up-to-date!\n"
     ]
    },
    {
     "name": "stdout",
     "output_type": "stream",
     "text": [
      "Raw sentiment dictionary :  {'neg': 0.176, 'neu': 0.766, 'pos': 0.058, 'compound': -0.8906}\n",
      "polarity percentage of sentence  17.599999999999998 % :: Negative\n",
      "polarity percentage of sentence  76.6 % :: Neutral\n",
      "polarity percentage of sentence  5.800000000000001 % :: Positive\n",
      "Overall polarity percentage of sentence :: Negative\n",
      "Raw sentiment dictionary :  {'neg': 0.063, 'neu': 0.728, 'pos': 0.208, 'compound': 0.9701}\n",
      "polarity percentage of sentence  6.3 % :: Negative\n",
      "polarity percentage of sentence  72.8 % :: Neutral\n",
      "polarity percentage of sentence  20.8 % :: Positive\n",
      "Overall polarity percentage of sentence :: Positive\n",
      "Raw sentiment dictionary :  {'neg': 0.203, 'neu': 0.682, 'pos': 0.115, 'compound': -0.7177}\n",
      "polarity percentage of sentence  20.3 % :: Negative\n",
      "polarity percentage of sentence  68.2 % :: Neutral\n",
      "polarity percentage of sentence  11.5 % :: Positive\n",
      "Overall polarity percentage of sentence :: Negative\n",
      "Raw sentiment dictionary :  {'neg': 0.141, 'neu': 0.859, 'pos': 0.0, 'compound': -0.6249}\n",
      "polarity percentage of sentence  14.099999999999998 % :: Negative\n",
      "polarity percentage of sentence  85.9 % :: Neutral\n",
      "polarity percentage of sentence  0.0 % :: Positive\n",
      "Overall polarity percentage of sentence :: Negative\n",
      "Raw sentiment dictionary :  {'neg': 0.0, 'neu': 0.934, 'pos': 0.066, 'compound': 0.34}\n",
      "polarity percentage of sentence  0.0 % :: Negative\n",
      "polarity percentage of sentence  93.4 % :: Neutral\n",
      "polarity percentage of sentence  6.6000000000000005 % :: Positive\n",
      "Overall polarity percentage of sentence :: Positive\n",
      "Raw sentiment dictionary :  {'neg': 0.138, 'neu': 0.702, 'pos': 0.16, 'compound': 0.4201}\n",
      "polarity percentage of sentence  13.8 % :: Negative\n",
      "polarity percentage of sentence  70.19999999999999 % :: Neutral\n",
      "polarity percentage of sentence  16.0 % :: Positive\n",
      "Overall polarity percentage of sentence :: Positive\n",
      "Raw sentiment dictionary :  {'neg': 0.186, 'neu': 0.613, 'pos': 0.201, 'compound': -0.0699}\n",
      "polarity percentage of sentence  18.6 % :: Negative\n",
      "polarity percentage of sentence  61.3 % :: Neutral\n",
      "polarity percentage of sentence  20.1 % :: Positive\n",
      "Overall polarity percentage of sentence :: Negative\n",
      "Raw sentiment dictionary :  {'neg': 0.1, 'neu': 0.791, 'pos': 0.109, 'compound': 0.6787}\n",
      "polarity percentage of sentence  10.0 % :: Negative\n",
      "polarity percentage of sentence  79.10000000000001 % :: Neutral\n",
      "polarity percentage of sentence  10.9 % :: Positive\n",
      "Overall polarity percentage of sentence :: Positive\n",
      "Raw sentiment dictionary :  {'neg': 0.115, 'neu': 0.843, 'pos': 0.042, 'compound': -0.6893}\n",
      "polarity percentage of sentence  11.5 % :: Negative\n",
      "polarity percentage of sentence  84.3 % :: Neutral\n",
      "polarity percentage of sentence  4.2 % :: Positive\n",
      "Overall polarity percentage of sentence :: Negative\n",
      "Raw sentiment dictionary :  {'neg': 0.179, 'neu': 0.795, 'pos': 0.027, 'compound': -0.9359}\n",
      "polarity percentage of sentence  17.9 % :: Negative\n",
      "polarity percentage of sentence  79.5 % :: Neutral\n",
      "polarity percentage of sentence  2.7 % :: Positive\n",
      "Overall polarity percentage of sentence :: Negative\n",
      "Raw sentiment dictionary :  {'neg': 0.041, 'neu': 0.833, 'pos': 0.127, 'compound': 0.9572}\n",
      "polarity percentage of sentence  4.1000000000000005 % :: Negative\n",
      "polarity percentage of sentence  83.3 % :: Neutral\n",
      "polarity percentage of sentence  12.7 % :: Positive\n",
      "Overall polarity percentage of sentence :: Positive\n",
      "Raw sentiment dictionary :  {'neg': 0.049, 'neu': 0.85, 'pos': 0.101, 'compound': 0.9054}\n",
      "polarity percentage of sentence  4.9 % :: Negative\n",
      "polarity percentage of sentence  85.0 % :: Neutral\n",
      "polarity percentage of sentence  10.100000000000001 % :: Positive\n",
      "Overall polarity percentage of sentence :: Positive\n",
      "Raw sentiment dictionary :  {'neg': 0.113, 'neu': 0.823, 'pos': 0.064, 'compound': -0.7248}\n",
      "polarity percentage of sentence  11.3 % :: Negative\n",
      "polarity percentage of sentence  82.3 % :: Neutral\n",
      "polarity percentage of sentence  6.4 % :: Positive\n",
      "Overall polarity percentage of sentence :: Negative\n",
      "Raw sentiment dictionary :  {'neg': 0.131, 'neu': 0.72, 'pos': 0.149, 'compound': 0.2732}\n",
      "polarity percentage of sentence  13.100000000000001 % :: Negative\n",
      "polarity percentage of sentence  72.0 % :: Neutral\n",
      "polarity percentage of sentence  14.899999999999999 % :: Positive\n",
      "Overall polarity percentage of sentence :: Positive\n",
      "Raw sentiment dictionary :  {'neg': 0.101, 'neu': 0.821, 'pos': 0.078, 'compound': -0.8242}\n",
      "polarity percentage of sentence  10.100000000000001 % :: Negative\n",
      "polarity percentage of sentence  82.1 % :: Neutral\n",
      "polarity percentage of sentence  7.8 % :: Positive\n",
      "Overall polarity percentage of sentence :: Negative\n",
      "Raw sentiment dictionary :  {'neg': 0.0, 'neu': 0.8, 'pos': 0.2, 'compound': 0.6969}\n",
      "polarity percentage of sentence  0.0 % :: Negative\n",
      "polarity percentage of sentence  80.0 % :: Neutral\n",
      "polarity percentage of sentence  20.0 % :: Positive\n",
      "Overall polarity percentage of sentence :: Positive\n",
      "Raw sentiment dictionary :  {'neg': 0.0, 'neu': 0.93, 'pos': 0.07, 'compound': 0.3716}\n",
      "polarity percentage of sentence  0.0 % :: Negative\n",
      "polarity percentage of sentence  93.0 % :: Neutral\n",
      "polarity percentage of sentence  7.000000000000001 % :: Positive\n",
      "Overall polarity percentage of sentence :: Positive\n",
      "Raw sentiment dictionary :  {'neg': 0.131, 'neu': 0.763, 'pos': 0.106, 'compound': -0.825}\n",
      "polarity percentage of sentence  13.100000000000001 % :: Negative\n",
      "polarity percentage of sentence  76.3 % :: Neutral\n",
      "polarity percentage of sentence  10.6 % :: Positive\n",
      "Overall polarity percentage of sentence :: Negative\n",
      "Raw sentiment dictionary :  {'neg': 0.08, 'neu': 0.782, 'pos': 0.138, 'compound': 0.8517}\n",
      "polarity percentage of sentence  8.0 % :: Negative\n",
      "polarity percentage of sentence  78.2 % :: Neutral\n",
      "polarity percentage of sentence  13.8 % :: Positive\n",
      "Overall polarity percentage of sentence :: Positive\n",
      "Raw sentiment dictionary :  {'neg': 0.064, 'neu': 0.892, 'pos': 0.044, 'compound': -0.6312}\n",
      "polarity percentage of sentence  6.4 % :: Negative\n",
      "polarity percentage of sentence  89.2 % :: Neutral\n",
      "polarity percentage of sentence  4.3999999999999995 % :: Positive\n",
      "Overall polarity percentage of sentence :: Negative\n",
      "Raw sentiment dictionary :  {'neg': 0.074, 'neu': 0.873, 'pos': 0.053, 'compound': -0.4102}\n",
      "polarity percentage of sentence  7.3999999999999995 % :: Negative\n",
      "polarity percentage of sentence  87.3 % :: Neutral\n",
      "polarity percentage of sentence  5.3 % :: Positive\n",
      "Overall polarity percentage of sentence :: Negative\n",
      "Raw sentiment dictionary :  {'neg': 0.168, 'neu': 0.726, 'pos': 0.107, 'compound': -0.5695}\n",
      "polarity percentage of sentence  16.8 % :: Negative\n",
      "polarity percentage of sentence  72.6 % :: Neutral\n",
      "polarity percentage of sentence  10.7 % :: Positive\n",
      "Overall polarity percentage of sentence :: Negative\n",
      "Raw sentiment dictionary :  {'neg': 0.069, 'neu': 0.859, 'pos': 0.072, 'compound': 0.1027}\n",
      "polarity percentage of sentence  6.9 % :: Negative\n",
      "polarity percentage of sentence  85.9 % :: Neutral\n",
      "polarity percentage of sentence  7.199999999999999 % :: Positive\n",
      "Overall polarity percentage of sentence :: Positive\n",
      "Raw sentiment dictionary :  {'neg': 0.16, 'neu': 0.67, 'pos': 0.17, 'compound': 0.1007}\n",
      "polarity percentage of sentence  16.0 % :: Negative\n",
      "polarity percentage of sentence  67.0 % :: Neutral\n",
      "polarity percentage of sentence  17.0 % :: Positive\n",
      "Overall polarity percentage of sentence :: Positive\n",
      "Raw sentiment dictionary :  {'neg': 0.253, 'neu': 0.7, 'pos': 0.047, 'compound': -0.9667}\n",
      "polarity percentage of sentence  25.3 % :: Negative\n",
      "polarity percentage of sentence  70.0 % :: Neutral\n",
      "polarity percentage of sentence  4.7 % :: Positive\n",
      "Overall polarity percentage of sentence :: Negative\n",
      "Raw sentiment dictionary :  {'neg': 0.175, 'neu': 0.767, 'pos': 0.058, 'compound': -0.9111}\n",
      "polarity percentage of sentence  17.5 % :: Negative\n",
      "polarity percentage of sentence  76.7 % :: Neutral\n",
      "polarity percentage of sentence  5.800000000000001 % :: Positive\n",
      "Overall polarity percentage of sentence :: Negative\n",
      "Raw sentiment dictionary :  {'neg': 0.17, 'neu': 0.83, 'pos': 0.0, 'compound': -0.765}\n",
      "polarity percentage of sentence  17.0 % :: Negative\n",
      "polarity percentage of sentence  83.0 % :: Neutral\n",
      "polarity percentage of sentence  0.0 % :: Positive\n",
      "Overall polarity percentage of sentence :: Negative\n",
      "Raw sentiment dictionary :  {'neg': 0.176, 'neu': 0.777, 'pos': 0.047, 'compound': -0.9761}\n",
      "polarity percentage of sentence  17.599999999999998 % :: Negative\n",
      "polarity percentage of sentence  77.7 % :: Neutral\n",
      "polarity percentage of sentence  4.7 % :: Positive\n",
      "Overall polarity percentage of sentence :: Negative\n",
      "Raw sentiment dictionary :  {'neg': 0.252, 'neu': 0.748, 'pos': 0.0, 'compound': -0.902}\n",
      "polarity percentage of sentence  25.2 % :: Negative\n",
      "polarity percentage of sentence  74.8 % :: Neutral\n",
      "polarity percentage of sentence  0.0 % :: Positive\n",
      "Overall polarity percentage of sentence :: Negative\n",
      "Raw sentiment dictionary :  {'neg': 0.199, 'neu': 0.748, 'pos': 0.053, 'compound': -0.8313}\n",
      "polarity percentage of sentence  19.900000000000002 % :: Negative\n",
      "polarity percentage of sentence  74.8 % :: Neutral\n",
      "polarity percentage of sentence  5.3 % :: Positive\n",
      "Overall polarity percentage of sentence :: Negative\n",
      "Raw sentiment dictionary :  {'neg': 0.049, 'neu': 0.886, 'pos': 0.064, 'compound': 0.8525}\n",
      "polarity percentage of sentence  4.9 % :: Negative\n",
      "polarity percentage of sentence  88.6 % :: Neutral\n",
      "polarity percentage of sentence  6.4 % :: Positive\n",
      "Overall polarity percentage of sentence :: Positive\n",
      "Raw sentiment dictionary :  {'neg': 0.0, 'neu': 0.795, 'pos': 0.205, 'compound': 0.7351}\n",
      "polarity percentage of sentence  0.0 % :: Negative\n",
      "polarity percentage of sentence  79.5 % :: Neutral\n",
      "polarity percentage of sentence  20.5 % :: Positive\n",
      "Overall polarity percentage of sentence :: Positive\n",
      "Raw sentiment dictionary :  {'neg': 0.076, 'neu': 0.884, 'pos': 0.039, 'compound': -0.8741}\n",
      "polarity percentage of sentence  7.6 % :: Negative\n",
      "polarity percentage of sentence  88.4 % :: Neutral\n",
      "polarity percentage of sentence  3.9 % :: Positive\n",
      "Overall polarity percentage of sentence :: Negative\n",
      "Raw sentiment dictionary :  {'neg': 0.16, 'neu': 0.773, 'pos': 0.067, 'compound': -0.9299}\n",
      "polarity percentage of sentence  16.0 % :: Negative\n",
      "polarity percentage of sentence  77.3 % :: Neutral\n",
      "polarity percentage of sentence  6.7 % :: Positive\n",
      "Overall polarity percentage of sentence :: Negative\n",
      "Raw sentiment dictionary :  {'neg': 0.023, 'neu': 0.824, 'pos': 0.153, 'compound': 0.9921}\n",
      "polarity percentage of sentence  2.3 % :: Negative\n",
      "polarity percentage of sentence  82.39999999999999 % :: Neutral\n",
      "polarity percentage of sentence  15.299999999999999 % :: Positive\n",
      "Overall polarity percentage of sentence :: Positive\n",
      "Raw sentiment dictionary :  {'neg': 0.11, 'neu': 0.847, 'pos': 0.043, 'compound': -0.5719}\n",
      "polarity percentage of sentence  11.0 % :: Negative\n"
     ]
    },
    {
     "name": "stdout",
     "output_type": "stream",
     "text": [
      "polarity percentage of sentence  84.7 % :: Neutral\n",
      "polarity percentage of sentence  4.3 % :: Positive\n",
      "Overall polarity percentage of sentence :: Negative\n",
      "Raw sentiment dictionary :  {'neg': 0.186, 'neu': 0.713, 'pos': 0.101, 'compound': -0.939}\n",
      "polarity percentage of sentence  18.6 % :: Negative\n",
      "polarity percentage of sentence  71.3 % :: Neutral\n",
      "polarity percentage of sentence  10.100000000000001 % :: Positive\n",
      "Overall polarity percentage of sentence :: Negative\n",
      "Raw sentiment dictionary :  {'neg': 0.132, 'neu': 0.851, 'pos': 0.017, 'compound': -0.9424}\n",
      "polarity percentage of sentence  13.200000000000001 % :: Negative\n",
      "polarity percentage of sentence  85.1 % :: Neutral\n",
      "polarity percentage of sentence  1.7000000000000002 % :: Positive\n",
      "Overall polarity percentage of sentence :: Negative\n",
      "Raw sentiment dictionary :  {'neg': 0.263, 'neu': 0.737, 'pos': 0.0, 'compound': -0.8637}\n",
      "polarity percentage of sentence  26.3 % :: Negative\n",
      "polarity percentage of sentence  73.7 % :: Neutral\n",
      "polarity percentage of sentence  0.0 % :: Positive\n",
      "Overall polarity percentage of sentence :: Negative\n",
      "Raw sentiment dictionary :  {'neg': 0.08, 'neu': 0.905, 'pos': 0.016, 'compound': -0.9183}\n",
      "polarity percentage of sentence  8.0 % :: Negative\n",
      "polarity percentage of sentence  90.5 % :: Neutral\n",
      "polarity percentage of sentence  1.6 % :: Positive\n",
      "Overall polarity percentage of sentence :: Negative\n",
      "Raw sentiment dictionary :  {'neg': 0.092, 'neu': 0.829, 'pos': 0.08, 'compound': 0.1548}\n",
      "polarity percentage of sentence  9.2 % :: Negative\n",
      "polarity percentage of sentence  82.89999999999999 % :: Neutral\n",
      "polarity percentage of sentence  8.0 % :: Positive\n",
      "Overall polarity percentage of sentence :: Positive\n",
      "Raw sentiment dictionary :  {'neg': 0.111, 'neu': 0.83, 'pos': 0.059, 'compound': -0.6622}\n",
      "polarity percentage of sentence  11.1 % :: Negative\n",
      "polarity percentage of sentence  83.0 % :: Neutral\n",
      "polarity percentage of sentence  5.8999999999999995 % :: Positive\n",
      "Overall polarity percentage of sentence :: Negative\n",
      "Raw sentiment dictionary :  {'neg': 0.183, 'neu': 0.817, 'pos': 0.0, 'compound': -0.8118}\n",
      "polarity percentage of sentence  18.3 % :: Negative\n",
      "polarity percentage of sentence  81.69999999999999 % :: Neutral\n",
      "polarity percentage of sentence  0.0 % :: Positive\n",
      "Overall polarity percentage of sentence :: Negative\n",
      "Raw sentiment dictionary :  {'neg': 0.156, 'neu': 0.735, 'pos': 0.109, 'compound': -0.8803}\n",
      "polarity percentage of sentence  15.6 % :: Negative\n",
      "polarity percentage of sentence  73.5 % :: Neutral\n",
      "polarity percentage of sentence  10.9 % :: Positive\n",
      "Overall polarity percentage of sentence :: Negative\n",
      "Raw sentiment dictionary :  {'neg': 0.1, 'neu': 0.816, 'pos': 0.084, 'compound': -0.1551}\n",
      "polarity percentage of sentence  10.0 % :: Negative\n",
      "polarity percentage of sentence  81.6 % :: Neutral\n",
      "polarity percentage of sentence  8.4 % :: Positive\n",
      "Overall polarity percentage of sentence :: Negative\n",
      "Raw sentiment dictionary :  {'neg': 0.201, 'neu': 0.648, 'pos': 0.151, 'compound': -0.4457}\n",
      "polarity percentage of sentence  20.1 % :: Negative\n",
      "polarity percentage of sentence  64.8 % :: Neutral\n",
      "polarity percentage of sentence  15.1 % :: Positive\n",
      "Overall polarity percentage of sentence :: Negative\n",
      "Raw sentiment dictionary :  {'neg': 0.069, 'neu': 0.931, 'pos': 0.0, 'compound': -0.8102}\n",
      "polarity percentage of sentence  6.9 % :: Negative\n",
      "polarity percentage of sentence  93.10000000000001 % :: Neutral\n",
      "polarity percentage of sentence  0.0 % :: Positive\n",
      "Overall polarity percentage of sentence :: Negative\n",
      "Raw sentiment dictionary :  {'neg': 0.132, 'neu': 0.803, 'pos': 0.066, 'compound': -0.9039}\n",
      "polarity percentage of sentence  13.200000000000001 % :: Negative\n",
      "polarity percentage of sentence  80.30000000000001 % :: Neutral\n",
      "polarity percentage of sentence  6.6000000000000005 % :: Positive\n",
      "Overall polarity percentage of sentence :: Negative\n",
      "Raw sentiment dictionary :  {'neg': 0.285, 'neu': 0.662, 'pos': 0.053, 'compound': -0.9051}\n",
      "polarity percentage of sentence  28.499999999999996 % :: Negative\n",
      "polarity percentage of sentence  66.2 % :: Neutral\n",
      "polarity percentage of sentence  5.3 % :: Positive\n",
      "Overall polarity percentage of sentence :: Negative\n",
      "Raw sentiment dictionary :  {'neg': 0.144, 'neu': 0.797, 'pos': 0.059, 'compound': -0.9418}\n",
      "polarity percentage of sentence  14.399999999999999 % :: Negative\n",
      "polarity percentage of sentence  79.7 % :: Neutral\n",
      "polarity percentage of sentence  5.8999999999999995 % :: Positive\n",
      "Overall polarity percentage of sentence :: Negative\n",
      "Raw sentiment dictionary :  {'neg': 0.111, 'neu': 0.77, 'pos': 0.119, 'compound': 0.5676}\n",
      "polarity percentage of sentence  11.1 % :: Negative\n",
      "polarity percentage of sentence  77.0 % :: Neutral\n",
      "polarity percentage of sentence  11.899999999999999 % :: Positive\n",
      "Overall polarity percentage of sentence :: Positive\n",
      "Raw sentiment dictionary :  {'neg': 0.132, 'neu': 0.825, 'pos': 0.043, 'compound': -0.8843}\n",
      "polarity percentage of sentence  13.200000000000001 % :: Negative\n",
      "polarity percentage of sentence  82.5 % :: Neutral\n",
      "polarity percentage of sentence  4.3 % :: Positive\n",
      "Overall polarity percentage of sentence :: Negative\n",
      "Raw sentiment dictionary :  {'neg': 0.102, 'neu': 0.775, 'pos': 0.124, 'compound': 0.318}\n",
      "polarity percentage of sentence  10.2 % :: Negative\n",
      "polarity percentage of sentence  77.5 % :: Neutral\n",
      "polarity percentage of sentence  12.4 % :: Positive\n",
      "Overall polarity percentage of sentence :: Positive\n",
      "Raw sentiment dictionary :  {'neg': 0.098, 'neu': 0.849, 'pos': 0.054, 'compound': -0.7887}\n",
      "polarity percentage of sentence  9.8 % :: Negative\n",
      "polarity percentage of sentence  84.89999999999999 % :: Neutral\n",
      "polarity percentage of sentence  5.4 % :: Positive\n",
      "Overall polarity percentage of sentence :: Negative\n",
      "Raw sentiment dictionary :  {'neg': 0.123, 'neu': 0.831, 'pos': 0.046, 'compound': -0.94}\n",
      "polarity percentage of sentence  12.3 % :: Negative\n",
      "polarity percentage of sentence  83.1 % :: Neutral\n",
      "polarity percentage of sentence  4.6 % :: Positive\n",
      "Overall polarity percentage of sentence :: Negative\n",
      "Raw sentiment dictionary :  {'neg': 0.156, 'neu': 0.718, 'pos': 0.127, 'compound': -0.873}\n",
      "polarity percentage of sentence  15.6 % :: Negative\n",
      "polarity percentage of sentence  71.8 % :: Neutral\n",
      "polarity percentage of sentence  12.7 % :: Positive\n",
      "Overall polarity percentage of sentence :: Negative\n",
      "Raw sentiment dictionary :  {'neg': 0.079, 'neu': 0.897, 'pos': 0.024, 'compound': -0.8995}\n",
      "polarity percentage of sentence  7.9 % :: Negative\n",
      "polarity percentage of sentence  89.7 % :: Neutral\n",
      "polarity percentage of sentence  2.4 % :: Positive\n",
      "Overall polarity percentage of sentence :: Negative\n",
      "Raw sentiment dictionary :  {'neg': 0.133, 'neu': 0.766, 'pos': 0.101, 'compound': -0.7422}\n",
      "polarity percentage of sentence  13.3 % :: Negative\n",
      "polarity percentage of sentence  76.6 % :: Neutral\n",
      "polarity percentage of sentence  10.100000000000001 % :: Positive\n",
      "Overall polarity percentage of sentence :: Negative\n",
      "Raw sentiment dictionary :  {'neg': 0.128, 'neu': 0.77, 'pos': 0.102, 'compound': -0.7357}\n",
      "polarity percentage of sentence  12.8 % :: Negative\n",
      "polarity percentage of sentence  77.0 % :: Neutral\n",
      "polarity percentage of sentence  10.2 % :: Positive\n",
      "Overall polarity percentage of sentence :: Negative\n",
      "Raw sentiment dictionary :  {'neg': 0.189, 'neu': 0.757, 'pos': 0.054, 'compound': -0.6908}\n",
      "polarity percentage of sentence  18.9 % :: Negative\n",
      "polarity percentage of sentence  75.7 % :: Neutral\n",
      "polarity percentage of sentence  5.4 % :: Positive\n",
      "Overall polarity percentage of sentence :: Negative\n",
      "Raw sentiment dictionary :  {'neg': 0.037, 'neu': 0.88, 'pos': 0.083, 'compound': 0.7375}\n",
      "polarity percentage of sentence  3.6999999999999997 % :: Negative\n",
      "polarity percentage of sentence  88.0 % :: Neutral\n",
      "polarity percentage of sentence  8.3 % :: Positive\n",
      "Overall polarity percentage of sentence :: Positive\n",
      "Raw sentiment dictionary :  {'neg': 0.145, 'neu': 0.803, 'pos': 0.052, 'compound': -0.7881}\n",
      "polarity percentage of sentence  14.499999999999998 % :: Negative\n",
      "polarity percentage of sentence  80.30000000000001 % :: Neutral\n",
      "polarity percentage of sentence  5.2 % :: Positive\n",
      "Overall polarity percentage of sentence :: Negative\n",
      "Raw sentiment dictionary :  {'neg': 0.212, 'neu': 0.735, 'pos': 0.053, 'compound': -0.9268}\n",
      "polarity percentage of sentence  21.2 % :: Negative\n",
      "polarity percentage of sentence  73.5 % :: Neutral\n",
      "polarity percentage of sentence  5.3 % :: Positive\n",
      "Overall polarity percentage of sentence :: Negative\n",
      "Raw sentiment dictionary :  {'neg': 0.156, 'neu': 0.771, 'pos': 0.073, 'compound': -0.9445}\n",
      "polarity percentage of sentence  15.6 % :: Negative\n",
      "polarity percentage of sentence  77.10000000000001 % :: Neutral\n",
      "polarity percentage of sentence  7.3 % :: Positive\n",
      "Overall polarity percentage of sentence :: Negative\n"
     ]
    },
    {
     "name": "stdout",
     "output_type": "stream",
     "text": [
      "Raw sentiment dictionary :  {'neg': 0.0, 'neu': 0.894, 'pos': 0.106, 'compound': 0.9551}\n",
      "polarity percentage of sentence  0.0 % :: Negative\n",
      "polarity percentage of sentence  89.4 % :: Neutral\n",
      "polarity percentage of sentence  10.6 % :: Positive\n",
      "Overall polarity percentage of sentence :: Positive\n",
      "Raw sentiment dictionary :  {'neg': 0.096, 'neu': 0.85, 'pos': 0.054, 'compound': -0.6486}\n",
      "polarity percentage of sentence  9.6 % :: Negative\n",
      "polarity percentage of sentence  85.0 % :: Neutral\n",
      "polarity percentage of sentence  5.4 % :: Positive\n",
      "Overall polarity percentage of sentence :: Negative\n",
      "Raw sentiment dictionary :  {'neg': 0.0, 'neu': 1.0, 'pos': 0.0, 'compound': 0.0}\n",
      "polarity percentage of sentence  0.0 % :: Negative\n",
      "polarity percentage of sentence  100.0 % :: Neutral\n",
      "polarity percentage of sentence  0.0 % :: Positive\n",
      "Overall polarity percentage of sentence :: Neutral\n"
     ]
    }
   ],
   "source": [
    "### Use VADER sentiment on the dataframe\n",
    "\n",
    "import nltk\n",
    "nltk.download('vader_lexicon')\n",
    "\n",
    "for i in range(len(df_sen)) :\n",
    "    vader_sentiment_scores(df_sen.loc[i, \"Reviews\"])\n"
   ]
  },
  {
   "cell_type": "code",
   "execution_count": 19,
   "metadata": {},
   "outputs": [],
   "source": [
    "## Add the sentiments column on the dataframe.\n",
    "\n",
    "from vaderSentiment.vaderSentiment import SentimentIntensityAnalyzer\n",
    "\n",
    "# function to print sentiments \n",
    " \n",
    "def vader_sentiment(row_text): \n",
    "    sentiment = ''\n",
    "    # Define SentimentIntensityAnalyzer object of VADER. \n",
    "    SIA_obj = SentimentIntensityAnalyzer() \n",
    "  \n",
    "    # calculate polarity scores which gives a sentiment dictionary, \n",
    "    # Contains pos, neg, neu, and compound scores.\n",
    " \n",
    "    polarity_dict = SIA_obj.polarity_scores(row_text) \n",
    "        \n",
    "    print(\"Raw sentiment dictionary : \", polarity_dict) \n",
    "    \n",
    "    \n",
    "      # Calculate overall sentiment by compound score\n",
    "    if polarity_dict['compound'] >= 0.05 : \n",
    "        sentiment = \"Positive\" \n",
    "  \n",
    "    elif polarity_dict['compound'] <= - 0.05 : \n",
    "        sentiment =\"Negative\" \n",
    "  \n",
    "    else : \n",
    "        sentiment  =\"Neutral\"\n",
    "        \n",
    "    return sentiment\n"
   ]
  },
  {
   "cell_type": "code",
   "execution_count": 20,
   "metadata": {},
   "outputs": [
    {
     "name": "stdout",
     "output_type": "stream",
     "text": [
      "Raw sentiment dictionary :  {'neg': 0.176, 'neu': 0.766, 'pos': 0.058, 'compound': -0.8906}\n",
      "Sentiment:  Negative\n",
      "Raw sentiment dictionary :  {'neg': 0.063, 'neu': 0.728, 'pos': 0.208, 'compound': 0.9701}\n",
      "Sentiment:  Positive\n",
      "Raw sentiment dictionary :  {'neg': 0.203, 'neu': 0.682, 'pos': 0.115, 'compound': -0.7177}\n",
      "Sentiment:  Negative\n",
      "Raw sentiment dictionary :  {'neg': 0.141, 'neu': 0.859, 'pos': 0.0, 'compound': -0.6249}\n",
      "Sentiment:  Negative\n",
      "Raw sentiment dictionary :  {'neg': 0.0, 'neu': 0.934, 'pos': 0.066, 'compound': 0.34}\n",
      "Sentiment:  Positive\n",
      "Raw sentiment dictionary :  {'neg': 0.138, 'neu': 0.702, 'pos': 0.16, 'compound': 0.4201}\n",
      "Sentiment:  Positive\n",
      "Raw sentiment dictionary :  {'neg': 0.186, 'neu': 0.613, 'pos': 0.201, 'compound': -0.0699}\n",
      "Sentiment:  Negative\n",
      "Raw sentiment dictionary :  {'neg': 0.1, 'neu': 0.791, 'pos': 0.109, 'compound': 0.6787}\n",
      "Sentiment:  Positive\n",
      "Raw sentiment dictionary :  {'neg': 0.115, 'neu': 0.843, 'pos': 0.042, 'compound': -0.6893}\n",
      "Sentiment:  Negative\n",
      "Raw sentiment dictionary :  {'neg': 0.179, 'neu': 0.795, 'pos': 0.027, 'compound': -0.9359}\n",
      "Sentiment:  Negative\n",
      "Raw sentiment dictionary :  {'neg': 0.041, 'neu': 0.833, 'pos': 0.127, 'compound': 0.9572}\n",
      "Sentiment:  Positive\n",
      "Raw sentiment dictionary :  {'neg': 0.049, 'neu': 0.85, 'pos': 0.101, 'compound': 0.9054}\n",
      "Sentiment:  Positive\n",
      "Raw sentiment dictionary :  {'neg': 0.113, 'neu': 0.823, 'pos': 0.064, 'compound': -0.7248}\n",
      "Sentiment:  Negative\n",
      "Raw sentiment dictionary :  {'neg': 0.131, 'neu': 0.72, 'pos': 0.149, 'compound': 0.2732}\n",
      "Sentiment:  Positive\n",
      "Raw sentiment dictionary :  {'neg': 0.101, 'neu': 0.821, 'pos': 0.078, 'compound': -0.8242}\n",
      "Sentiment:  Negative\n",
      "Raw sentiment dictionary :  {'neg': 0.0, 'neu': 0.8, 'pos': 0.2, 'compound': 0.6969}\n",
      "Sentiment:  Positive\n",
      "Raw sentiment dictionary :  {'neg': 0.0, 'neu': 0.93, 'pos': 0.07, 'compound': 0.3716}\n",
      "Sentiment:  Positive\n",
      "Raw sentiment dictionary :  {'neg': 0.131, 'neu': 0.763, 'pos': 0.106, 'compound': -0.825}\n",
      "Sentiment:  Negative\n",
      "Raw sentiment dictionary :  {'neg': 0.08, 'neu': 0.782, 'pos': 0.138, 'compound': 0.8517}\n",
      "Sentiment:  Positive\n",
      "Raw sentiment dictionary :  {'neg': 0.064, 'neu': 0.892, 'pos': 0.044, 'compound': -0.6312}\n",
      "Sentiment:  Negative\n",
      "Raw sentiment dictionary :  {'neg': 0.074, 'neu': 0.873, 'pos': 0.053, 'compound': -0.4102}\n",
      "Sentiment:  Negative\n",
      "Raw sentiment dictionary :  {'neg': 0.168, 'neu': 0.726, 'pos': 0.107, 'compound': -0.5695}\n",
      "Sentiment:  Negative\n",
      "Raw sentiment dictionary :  {'neg': 0.069, 'neu': 0.859, 'pos': 0.072, 'compound': 0.1027}\n",
      "Sentiment:  Positive\n",
      "Raw sentiment dictionary :  {'neg': 0.16, 'neu': 0.67, 'pos': 0.17, 'compound': 0.1007}\n",
      "Sentiment:  Positive\n",
      "Raw sentiment dictionary :  {'neg': 0.253, 'neu': 0.7, 'pos': 0.047, 'compound': -0.9667}\n",
      "Sentiment:  Negative\n",
      "Raw sentiment dictionary :  {'neg': 0.175, 'neu': 0.767, 'pos': 0.058, 'compound': -0.9111}\n",
      "Sentiment:  Negative\n",
      "Raw sentiment dictionary :  {'neg': 0.17, 'neu': 0.83, 'pos': 0.0, 'compound': -0.765}\n",
      "Sentiment:  Negative\n",
      "Raw sentiment dictionary :  {'neg': 0.176, 'neu': 0.777, 'pos': 0.047, 'compound': -0.9761}\n",
      "Sentiment:  Negative\n",
      "Raw sentiment dictionary :  {'neg': 0.252, 'neu': 0.748, 'pos': 0.0, 'compound': -0.902}\n",
      "Sentiment:  Negative\n",
      "Raw sentiment dictionary :  {'neg': 0.199, 'neu': 0.748, 'pos': 0.053, 'compound': -0.8313}\n",
      "Sentiment:  Negative\n",
      "Raw sentiment dictionary :  {'neg': 0.049, 'neu': 0.886, 'pos': 0.064, 'compound': 0.8525}\n",
      "Sentiment:  Positive\n",
      "Raw sentiment dictionary :  {'neg': 0.0, 'neu': 0.795, 'pos': 0.205, 'compound': 0.7351}\n",
      "Sentiment:  Positive\n",
      "Raw sentiment dictionary :  {'neg': 0.076, 'neu': 0.884, 'pos': 0.039, 'compound': -0.8741}\n",
      "Sentiment:  Negative\n",
      "Raw sentiment dictionary :  {'neg': 0.16, 'neu': 0.773, 'pos': 0.067, 'compound': -0.9299}\n",
      "Sentiment:  Negative\n",
      "Raw sentiment dictionary :  {'neg': 0.023, 'neu': 0.824, 'pos': 0.153, 'compound': 0.9921}\n",
      "Sentiment:  Positive\n",
      "Raw sentiment dictionary :  {'neg': 0.11, 'neu': 0.847, 'pos': 0.043, 'compound': -0.5719}\n",
      "Sentiment:  Negative\n",
      "Raw sentiment dictionary :  {'neg': 0.186, 'neu': 0.713, 'pos': 0.101, 'compound': -0.939}\n",
      "Sentiment:  Negative\n",
      "Raw sentiment dictionary :  {'neg': 0.132, 'neu': 0.851, 'pos': 0.017, 'compound': -0.9424}\n",
      "Sentiment:  Negative\n",
      "Raw sentiment dictionary :  {'neg': 0.263, 'neu': 0.737, 'pos': 0.0, 'compound': -0.8637}\n",
      "Sentiment:  Negative\n",
      "Raw sentiment dictionary :  {'neg': 0.08, 'neu': 0.905, 'pos': 0.016, 'compound': -0.9183}\n",
      "Sentiment:  Negative\n",
      "Raw sentiment dictionary :  {'neg': 0.092, 'neu': 0.829, 'pos': 0.08, 'compound': 0.1548}\n",
      "Sentiment:  Positive\n",
      "Raw sentiment dictionary :  {'neg': 0.111, 'neu': 0.83, 'pos': 0.059, 'compound': -0.6622}\n",
      "Sentiment:  Negative\n",
      "Raw sentiment dictionary :  {'neg': 0.183, 'neu': 0.817, 'pos': 0.0, 'compound': -0.8118}\n",
      "Sentiment:  Negative\n",
      "Raw sentiment dictionary :  {'neg': 0.156, 'neu': 0.735, 'pos': 0.109, 'compound': -0.8803}\n",
      "Sentiment:  Negative\n",
      "Raw sentiment dictionary :  {'neg': 0.1, 'neu': 0.816, 'pos': 0.084, 'compound': -0.1551}\n",
      "Sentiment:  Negative\n",
      "Raw sentiment dictionary :  {'neg': 0.201, 'neu': 0.648, 'pos': 0.151, 'compound': -0.4457}\n",
      "Sentiment:  Negative\n",
      "Raw sentiment dictionary :  {'neg': 0.069, 'neu': 0.931, 'pos': 0.0, 'compound': -0.8102}\n",
      "Sentiment:  Negative\n",
      "Raw sentiment dictionary :  {'neg': 0.132, 'neu': 0.803, 'pos': 0.066, 'compound': -0.9039}\n",
      "Sentiment:  Negative\n",
      "Raw sentiment dictionary :  {'neg': 0.285, 'neu': 0.662, 'pos': 0.053, 'compound': -0.9051}\n",
      "Sentiment:  Negative\n",
      "Raw sentiment dictionary :  {'neg': 0.144, 'neu': 0.797, 'pos': 0.059, 'compound': -0.9418}\n",
      "Sentiment:  Negative\n",
      "Raw sentiment dictionary :  {'neg': 0.111, 'neu': 0.77, 'pos': 0.119, 'compound': 0.5676}\n",
      "Sentiment:  Positive\n",
      "Raw sentiment dictionary :  {'neg': 0.132, 'neu': 0.825, 'pos': 0.043, 'compound': -0.8843}\n",
      "Sentiment:  Negative\n",
      "Raw sentiment dictionary :  {'neg': 0.102, 'neu': 0.775, 'pos': 0.124, 'compound': 0.318}\n",
      "Sentiment:  Positive\n",
      "Raw sentiment dictionary :  {'neg': 0.098, 'neu': 0.849, 'pos': 0.054, 'compound': -0.7887}\n",
      "Sentiment:  Negative\n",
      "Raw sentiment dictionary :  {'neg': 0.123, 'neu': 0.831, 'pos': 0.046, 'compound': -0.94}\n",
      "Sentiment:  Negative\n",
      "Raw sentiment dictionary :  {'neg': 0.156, 'neu': 0.718, 'pos': 0.127, 'compound': -0.873}\n",
      "Sentiment:  Negative\n",
      "Raw sentiment dictionary :  {'neg': 0.079, 'neu': 0.897, 'pos': 0.024, 'compound': -0.8995}\n",
      "Sentiment:  Negative\n",
      "Raw sentiment dictionary :  {'neg': 0.133, 'neu': 0.766, 'pos': 0.101, 'compound': -0.7422}\n",
      "Sentiment:  Negative\n",
      "Raw sentiment dictionary :  {'neg': 0.128, 'neu': 0.77, 'pos': 0.102, 'compound': -0.7357}\n",
      "Sentiment:  Negative\n",
      "Raw sentiment dictionary :  {'neg': 0.189, 'neu': 0.757, 'pos': 0.054, 'compound': -0.6908}\n",
      "Sentiment:  Negative\n",
      "Raw sentiment dictionary :  {'neg': 0.037, 'neu': 0.88, 'pos': 0.083, 'compound': 0.7375}\n",
      "Sentiment:  Positive\n",
      "Raw sentiment dictionary :  {'neg': 0.145, 'neu': 0.803, 'pos': 0.052, 'compound': -0.7881}\n",
      "Sentiment:  Negative\n",
      "Raw sentiment dictionary :  {'neg': 0.212, 'neu': 0.735, 'pos': 0.053, 'compound': -0.9268}\n",
      "Sentiment:  Negative\n",
      "Raw sentiment dictionary :  {'neg': 0.156, 'neu': 0.771, 'pos': 0.073, 'compound': -0.9445}\n",
      "Sentiment:  Negative\n",
      "Raw sentiment dictionary :  {'neg': 0.0, 'neu': 0.894, 'pos': 0.106, 'compound': 0.9551}\n",
      "Sentiment:  Positive\n",
      "Raw sentiment dictionary :  {'neg': 0.096, 'neu': 0.85, 'pos': 0.054, 'compound': -0.6486}\n",
      "Sentiment:  Negative\n",
      "Raw sentiment dictionary :  {'neg': 0.0, 'neu': 1.0, 'pos': 0.0, 'compound': 0.0}\n",
      "Sentiment:  Neutral\n"
     ]
    }
   ],
   "source": [
    "# Create a new dataframe column, called \"Sentiment\" to which we will assign the sentiment value.\n",
    "\n",
    "for i in range(len(df_sen)) :\n",
    "    row_text = df_sen.loc[i, \"Reviews\"] # select a the row in position i\n",
    "    sentiment = vader_sentiment(row_text)# analize the sentiment of that row\n",
    "    print('Sentiment: ', sentiment)\n",
    "    df_sen.loc[i,'Sentiments'] = sentiment"
   ]
  },
  {
   "cell_type": "code",
   "execution_count": 21,
   "metadata": {},
   "outputs": [
    {
     "data": {
      "text/html": [
       "<div>\n",
       "<style scoped>\n",
       "    .dataframe tbody tr th:only-of-type {\n",
       "        vertical-align: middle;\n",
       "    }\n",
       "\n",
       "    .dataframe tbody tr th {\n",
       "        vertical-align: top;\n",
       "    }\n",
       "\n",
       "    .dataframe thead th {\n",
       "        text-align: right;\n",
       "    }\n",
       "</style>\n",
       "<table border=\"1\" class=\"dataframe\">\n",
       "  <thead>\n",
       "    <tr style=\"text-align: right;\">\n",
       "      <th></th>\n",
       "      <th>Customer_Nationality</th>\n",
       "      <th>Date</th>\n",
       "      <th>Reviews</th>\n",
       "      <th>Polarity</th>\n",
       "      <th>Subjectivity</th>\n",
       "      <th>Sentiments</th>\n",
       "    </tr>\n",
       "  </thead>\n",
       "  <tbody>\n",
       "    <tr>\n",
       "      <th>0</th>\n",
       "      <td>UK</td>\n",
       "      <td>Mar-20</td>\n",
       "      <td>Worst airport Ive ever arrived into. Huge queu...</td>\n",
       "      <td>-0.195000</td>\n",
       "      <td>0.532500</td>\n",
       "      <td>Negative</td>\n",
       "    </tr>\n",
       "    <tr>\n",
       "      <th>1</th>\n",
       "      <td>US</td>\n",
       "      <td>Mar-20</td>\n",
       "      <td>The security line set up is totally unreasonab...</td>\n",
       "      <td>0.110417</td>\n",
       "      <td>0.474306</td>\n",
       "      <td>Positive</td>\n",
       "    </tr>\n",
       "    <tr>\n",
       "      <th>2</th>\n",
       "      <td>UK</td>\n",
       "      <td>Feb-20</td>\n",
       "      <td>Dreadful experience! Nearly 3 hour wait with t...</td>\n",
       "      <td>-0.380000</td>\n",
       "      <td>0.760000</td>\n",
       "      <td>Negative</td>\n",
       "    </tr>\n",
       "    <tr>\n",
       "      <th>3</th>\n",
       "      <td>Jordan</td>\n",
       "      <td>Jan-20</td>\n",
       "      <td>Worst ever arrival immigration process globall...</td>\n",
       "      <td>-0.250000</td>\n",
       "      <td>0.656250</td>\n",
       "      <td>Negative</td>\n",
       "    </tr>\n",
       "    <tr>\n",
       "      <th>4</th>\n",
       "      <td>UK</td>\n",
       "      <td>Jan-20</td>\n",
       "      <td>Hundreds of people awaiting to get through arr...</td>\n",
       "      <td>0.033333</td>\n",
       "      <td>0.633333</td>\n",
       "      <td>Positive</td>\n",
       "    </tr>\n",
       "  </tbody>\n",
       "</table>\n",
       "</div>"
      ],
      "text/plain": [
       "  Customer_Nationality    Date  \\\n",
       "0                   UK  Mar-20   \n",
       "1                   US  Mar-20   \n",
       "2                   UK  Feb-20   \n",
       "3               Jordan  Jan-20   \n",
       "4                   UK  Jan-20   \n",
       "\n",
       "                                             Reviews  Polarity  Subjectivity  \\\n",
       "0  Worst airport Ive ever arrived into. Huge queu... -0.195000      0.532500   \n",
       "1  The security line set up is totally unreasonab...  0.110417      0.474306   \n",
       "2  Dreadful experience! Nearly 3 hour wait with t... -0.380000      0.760000   \n",
       "3  Worst ever arrival immigration process globall... -0.250000      0.656250   \n",
       "4  Hundreds of people awaiting to get through arr...  0.033333      0.633333   \n",
       "\n",
       "  Sentiments  \n",
       "0   Negative  \n",
       "1   Positive  \n",
       "2   Negative  \n",
       "3   Negative  \n",
       "4   Positive  "
      ]
     },
     "execution_count": 21,
     "metadata": {},
     "output_type": "execute_result"
    }
   ],
   "source": [
    "# Print the first 5 rows of the dataframe\n",
    "\n",
    "df_sen.head(5)"
   ]
  },
  {
   "cell_type": "code",
   "execution_count": 22,
   "metadata": {
    "scrolled": true
   },
   "outputs": [
    {
     "data": {
      "image/png": "[encoded data removed]",
      "text/plain": [
       "<Figure size 432x288 with 1 Axes>"
      ]
     },
     "metadata": {
      "needs_background": "light"
     },
     "output_type": "display_data"
    }
   ],
   "source": [
    "# Visualize the sentiments\n",
    "\n",
    "Sentiment_count=df_sen.groupby('Sentiments').count()\n",
    "plt.barh(Sentiment_count.index.values, Sentiment_count['Reviews'], color=['C2', 'C3', 'C4'])\n",
    "plt.ylabel('Review Sentiments',fontweight= 'bold', fontsize = '14')\n",
    "plt.xlabel('Number of Review', fontweight= 'bold', fontsize = '14')\n",
    "plt.show()"
   ]
  },
  {
   "cell_type": "code",
   "execution_count": 23,
   "metadata": {},
   "outputs": [
    {
     "data": {
      "text/plain": [
       "Neutral      1\n",
       "Positive    20\n",
       "Negative    46\n",
       "Name: Sentiments, dtype: int64"
      ]
     },
     "execution_count": 23,
     "metadata": {},
     "output_type": "execute_result"
    }
   ],
   "source": [
    "# Count the values\n",
    "df_sen['Sentiments'].value_counts(ascending=True)"
   ]
  },
  {
   "cell_type": "code",
   "execution_count": 24,
   "metadata": {},
   "outputs": [
    {
     "data": {
      "text/plain": [
       "Negative    0.686567\n",
       "Positive    0.298507\n",
       "Neutral     0.014925\n",
       "Name: Sentiments, dtype: float64"
      ]
     },
     "execution_count": 24,
     "metadata": {},
     "output_type": "execute_result"
    }
   ],
   "source": [
    "#Normalizing\n",
    "\n",
    "df_sen['Sentiments'].value_counts(normalize=True)"
   ]
  },
  {
   "cell_type": "markdown",
   "metadata": {},
   "source": [
    "### Using Naive Bayes"
   ]
  },
  {
   "cell_type": "code",
   "execution_count": 25,
   "metadata": {},
   "outputs": [
    {
     "name": "stdout",
     "output_type": "stream",
     "text": [
      "{'worst': 1548, 'airport': 93, 'ive': 730, 'arrived': 138, 'huge': 662, 'queues': 1065, 'probably': 1039, 'slowest': 1250, 'staff': 1276, 'despite': 391, 'door': 432, '2': 20, 'hours': 658, 'seen': 1196, 'chatting': 266, 'customers': 361, 'asking': 145, 'line': 785, 'talking': 1341, 'taking': 1339, 'age': 79, 'process': 1042, 'time': 1376, 'unfriendly': 1440, 'downright': 434, 'rude': 1139, 'security': 1193, 'checks': 272, 'set': 1210, 'totally': 1389, 'unreasonable': 1456, 'precheck': 1028, 'separate': 1204, 'clear': 284, 'machine': 821, 'placed': 999, 'tsa': 1419, 'allowing': 100, 'cut': 363, 'really': 1084, 'higher': 639, 'priority': 1037, 'announce': 113, 'people': 980, 'decide': 371, 'buy': 228, 'instead': 709, 'believe': 191, 'machines': 822, 'end': 463, 'area': 131, 'away': 169, 'confirmed': 319, 'like': 783, 'suspect': 1329, 'pays': 978, 'program': 1047, 'unofficial': 1451, 'advantage': 72, 'dreadful': 439, 'experience': 495, 'nearly': 893, '3': 30, 'hour': 657, 'wait': 1491, 'desks': 389, 'humourless': 666, 'arrogant': 141, 'finally': 535, 'processed': 1043, 'hint': 641, 'apology': 121, 'waited': 1492, 'felt': 528, 'herded': 636, 'cattle': 252, 'treated': 1406, 'similarly': 1239, 'truly': 1414, 'awful': 170, 'introduction': 721, 'states': 1290, 'arrival': 135, 'immigration': 682, 'globally': 586, '10h30': 6, 'officer': 920, 'entire': 470, 'terminal': 1352, '777': 48, 'planes': 1002, 'waiting': 1493, 'queue': 1063, 'hundreds': 667, 'awaiting': 167, 'arrivals': 136, '12': 10, 'booths': 207, 'open': 927, 'rest': 1117, 'shut': 1230, 'currently': 359, 'stood': 1296, 's': 1148, 'far': 516, 'shocking': 1218, 'ridiculously': 1133, 'long': 800, 'slow': 1249, 'unhelpful': 1442, 'half': 608, 'meaning': 850, 'times': 1377, 'talked': 1340, 'animals': 111, 'australia': 158, 'jan': 731, '2020': 24, 'completely': 313, 'wonderful': 1539, 'look': 802, 'flying': 551, 'newark': 901, 'laguardia': 755, 'love': 811, 'visiting': 1485, 'new': 900, 'york': 1567, 'use': 1467, 'ignorant': 675, 'treating': 1407, 'absolutely': 57, 'treat': 1405, 'witnessed': 1536, 'angry': 110, 'pasengers': 964, 'barking': 184, 'shouting': 1228, 'vermin': 1479, 'power': 1027, 'trip': 1410, 'ridicule': 1131, 'intimidate': 719, 'way': 1511, 'going': 589, 'god': 588, 'help': 633, 'despicable': 390, 'life': 782, 'disorganised': 417, 'lines': 786, 'world': 1546, 'better': 194, 'jfk': 734, 'manned': 840, 'tripping': 1411, 'morons': 883, 'took': 1385, 'check': 268, 'travelling': 1402, '5': 42, 'children': 273, 'missed': 876, 'flight': 542, 'min': 868, 'lady': 754, 'opened': 928, 'single': 1241, 'present': 1030, 'received': 1088, 'christmas': 275, 'opening': 929, 'toys': 1391, 'screwdriver': 1178, 'phones': 988, 'ipads': 725, 'nintendo': 906, 'switch': 1332, 'harry': 621, 'potter': 1026, 'wand': 1497, 'star': 1284, 'wars': 1506, 'droid': 442, 'wouldnt': 1552, 'surprised': 1326, 'works': 1545, 'used': 1468, 'x': 1558, 'ray': 1078, 'scanner': 1164, 'inside': 706, 'luggage': 817, 'son': 1259, 'upset': 1461, 'seeing': 1194, 'pull': 1054, 'apart': 119, 'spur': 1275, 'arrogance': 140, 'self': 1199, 'importance': 683, 'daughter': 366, 'wears': 1515, 'arm': 134, 'brace': 215, 'recently': 1089, 'operated': 930, 'elbow': 455, 'gets': 578, 'patted': 975, 'think': 1365, 'different': 399, 'pat': 972, 'argued': 133, 'important': 684, 'shouldve': 1226, 'sons': 1260, 'toy': 1390, 'didnt': 396, 'pleasure': 1006, 'disrespect': 419, 'contempt': 333, '48min': 40, 'just': 743, 'respect': 1114, 'doesnt': 426, 'need': 894, 'unpleasant': 1454, 'let': 777, 'medication': 854, '250ml': 28, 'liquid': 787, 'pair': 955, 'scissors': 1170, 'thank': 1357, 'goodness': 592, 'scrutinised': 1180, 'hidden': 637, 'things': 1364, 'know': 749, 'missing': 877, 'boarding': 203, 'plane': 1001, 'ramp': 1072, 'went': 1521, 'leguardia': 775, 'standby': 1281, 'picked': 991, 'guess': 604, 'scanned': 1163, 'free': 562, 'shame': 1215, 'clearly': 287, 'invest': 722, 'airports': 94, 'major': 825, 'cities': 276, 'clone': 289, 'maybe': 847, 'measure': 853, 'scale': 1160, 'moment': 878, 'fail': 511, 'dismally': 416, 'pile': 994, 'experienced': 496, 'barely': 182, 'moved': 886, 'fights': 531, 'landed': 756, 'got': 593, 'longer': 801, 'maximum': 846, 'officers': 921, 'checked': 269, 'customs': 362, 'fly': 550, 'absolute': 56, 'disgraceful': 412, 'visitors': 1487, 'puts': 1058, 'coming': 303, 'city': 278, 'inefficiently': 695, 'managed': 833, 'nice': 902, 'polite': 1015, 'travellers': 1401, 'lots': 808, 'screaming': 1175, 'directing': 405, 'bags': 179, 'real': 1081, 'reason': 1085, 'hold': 642, 'food': 554, 'shops': 1223, 'asleep': 147, 'diners': 402, 'fix': 539, 'nails': 890, 'gloves': 587, 'poor': 1017, 'general': 574, 'definitely': 374, 'expecting': 493, 'level': 779, 'service': 1207, 'early': 448, '08': 3, '05': 2, '12th': 11, 'november': 911, '2019': 23, 'sat': 1155, 'gate': 571, '00': 0, '30': 31, 'civilian': 279, 'guard': 602, 'asked': 144, 'leave': 770, 'departures': 384, '4': 37, 'mean': 849, 'leaving': 772, 'submitting': 1311, 'correct': 342, 'official': 922, 'website': 1518, 'does': 424, 'suggest': 1315, 'international': 716, 'flights': 543, 'refused': 1094, 'identify': 674, 'personnel': 984, 'number': 912, 'pointed': 1011, 'neeed': 898, 'complaint': 311, 'stated': 1289, 'tell': 1348, 'told': 1383, 'spoke': 1273, 'downstairs': 435, 'professional': 1045, 'said': 1153, 'couldn': 344, 't': 1334, 'firstly': 538, 'wouldn': 1551, 'secondly': 1189, 'approximately': 130, '9': 50, 'insolvuable': 707, 'problem': 1040, 'ops': 933, 'raised': 1071, 'concerns': 317, 'admitted': 71, '1': 4, '15': 13, 'supposed': 1321, 'entirely': 471, 'clean': 282, 'zombie': 1572, 'movie': 887, 'pity': 997, 'good': 591, 'wife': 1531, 'broke': 219, 'wrist': 1554, 'small': 1251, 'finger': 536, 'hand': 611, 'cast': 249, 'day': 367, 'walking': 1496, 'unsteadily': 1457, 'decided': 372, 'wheelchair': 1525, 'arrive': 137, 'stand': 1278, 'trying': 1418, 'comply': 314, 'kept': 744, 'standing': 1282, 'screen': 1176, 'scolded': 1171, 'saying': 1159, 'words': 1540, 'effect': 453, 'deigned': 376, 'held': 632, 'tried': 1409, 'plaster': 1004, 'concluded': 318, 'complained': 310, 'supervisor': 1319, 'seated': 1184, 'promise': 1048, 'action': 62, 'did': 394, 'don': 429, 'bullying': 222, 'humiliating': 665, 'visited': 1484, 'spend': 1270, 'money': 881, 'unfortunate': 1438, 'fall': 514, 'countries': 349, 'resolved': 1112, 'come': 300, 'compare': 306, 'cuba': 358, 'havana': 625, 'difference': 398, 'wifi': 1532, 'working': 1544, 'funny': 568, 'guy': 605, 'helping': 635, 'temperature': 1351, 'control': 336, 'switched': 1333, 'hot': 655, 'windy': 1534, 'seconds': 1190, 'air': 87, 'quality': 1060, 'breath': 218, 'foods': 555, 'standard': 1279, 'european': 479, 'standards': 1280, 'strange': 1300, 'biggest': 197, 'passport': 970, 'scanners': 1165, 'work': 1541, 'properly': 1050, 'person': 982, '90': 51, 'minutes': 873, 'fun': 567, 'dirty': 407, 'poorly': 1018, 'ventilated': 1478, 'sure': 1323, 'avoid': 165, 'future': 569, 'reflection': 1092, 'country': 350, 'perfect': 981, 'result': 1121, 'happens': 617, 'governments': 596, 'employees': 460, 'run': 1144, 'shoes': 1220, 'load': 793, 'trays': 1404, 'readiness': 1080, 'uk': 1428, 'coats': 296, 'loaded': 794, 'suddenly': 1313, 'shouted': 1227, 'aggressively': 84, 'female': 529, 'attendant': 155, 'hadnt': 607, 'understood': 1435, 'barked': 183, 'orders': 939, 'remove': 1102, 'young': 1569, 'getting': 579, 'flustered': 549, 'aggressive': 83, 'manner': 841, 'distance': 422, 'sighed': 1233, 'loudly': 810, 'derogatory': 385, 'remark': 1099, 'removed': 1103, 'angrily': 109, 'tray': 1403, 'banged': 181, 'conveyor': 339, 'belt': 192, 'behaviour': 189, 'politely': 1016, 'im': 679, 'listened': 789, 'second': 1188, 'close': 290, 'shocked': 1217, 'passengers': 968, 'expressed': 498, 'similar': 1238, 'feelings': 524, 'earth': 449, 'learning': 769, 'difficulties': 400, 'frailties': 558, 'cope': 340, 'treatment': 1408, 'upsetting': 1462, 'holiday': 643, 'usa': 1466, 'glad': 583, 'training': 1394, 'urgently': 1464, 'needed': 895, 'remind': 1100, 'human': 664, 'beings': 190, 'paying': 977, 'lot': 807, 'deserve': 387, 'basic': 186, 'paid': 954, 'cold': 297, 'overall': 946, 'positive': 1021, 'locations': 797, 'dont': 430, 'theres': 1362, 'want': 1500, 'read': 1079, 'great': 597, 'reviews': 1128, 'short': 1224, 'officious': 923, 'receive': 1087, 'special': 1268, 'unlearn': 1447, 'customer': 360, 'mother': 884, 'taught': 1343, 'smile': 1253, 'say': 1158, 'thankyou': 1360, 'incompetent': 692, 'inefficient': 694, 'setup': 1212, 'visit': 1483, 'changi': 260, 'haneda': 615, 'unhappy': 1441, 'ordered': 937, 'previously': 1032, 'connecting': 327, 'extremely': 503, 'departure': 383, 'surly': 1325, 'needlessly': 896, 'joke': 739, 'little': 791, 'understanding': 1434, 'concept': 315, 'flow': 548, '7': 47, 'amenities': 104, 'travelled': 1400, 'internationally': 717, 'month': 882, '25': 27, 'years': 1562, 'impressions': 687, 'matter': 845, 'total': 1388, 'nyc': 916, 'massive': 844, 'disservice': 421, 'possible': 1023, 'home': 644, 'bag': 177, 'locked': 798, 'destination': 392, 'randomly': 1073, 'carefully': 239, 'packaged': 952, 'whiskey': 1528, 'glasses': 585, 'hudson': 661, 'valley': 1473, 'distillers': 423, 'job': 736, 'trusted': 1416, 'value': 1474, 'monetarily': 880, 'reminder': 1101, 'ago': 85, 'worth': 1549, 'willing': 1533, 'lie': 781, 'steal': 1293, 'case': 246, 'oh': 924, 'worthy': 1550, 'individuals': 693, 'make': 827, 'register': 1095, 'camera': 236, 'surveillance': 1328, 'threat': 1371, 'oct': 919, '19': 17, 'jetblue': 733, '161': 16, 'sacramento': 1150, 'cares': 240, 'including': 690, 'developing': 393, 'african': 78, 'stands': 1283, 'unacceptable': 1430, 'thought': 1369, 'strike': 1304, 'weren': 1522, 'counters': 347, 'baggage': 178, 'floor': 545, 'carousel': 241, 'taken': 1337, 'excuse': 486, 'carried': 242, 'toilet': 1381, 'retrieved': 1123, 'disgusting': 414, 'taxi': 1345, 'driver': 441, 'hotel': 656, 'address': 68, 'hadn': 606, 'realised': 1082, 'london': 799, 'paradise': 959, 'hope': 648, 'transfer': 1395, 'airlines': 91, 'fault': 519, 'pay': 976, 'final': 534, 'advised': 74, 'gotten': 594, 'checkpoint': 271, 'intention': 713, 'spending': 1271, 'american': 106, 'products': 1044, '1hr': 19, '30mins': 33, 'automated': 160, 'doubt': 433, 'border': 208, 'disappointed': 409, 'numerous': 914, 'encounters': 462, 'unwilling': 1460, 'assist': 149, 'questions': 1062, 'agents': 81, 'multiple': 888, 'numbers': 913, 'step': 1294, 'counter': 346, 'agent': 80, 'gaps': 570, 'assimilated': 148, 'barnyard': 185, 'quite': 1069, 'inhuman': 703, 'terrible': 1354, 'lengths': 776, 'lastly': 762, 'gives': 582, 'nation': 891, 'bad': 175, 'image': 680, 'train': 1393, 'effective': 454, 'amazing': 103, 'resourced': 1113, 'old': 925, 'rusty': 1147, 'bathrooms': 188, 'broken': 220, 'escalator': 474, 'insufficient': 712, 'seating': 1185, 'crowded': 357, 'choices': 274, 'high': 638, 'prices': 1035, 'needs': 897, 'complete': 312, 'makeover': 828, 'scruffy': 1179, 'sour': 1263, 'faced': 506, 'unintelligible': 1444, 'instructions': 711, 'confused': 323, 'ages': 82, 'endless': 466, 'snaking': 1256, 'chaos': 261, 'extensively': 501, 'exception': 483, 'la': 752, 'guardia': 603, 'impression': 686, 'travelers': 1399, 'united': 1446, 'speechless': 1269, 'embarrassment': 459, 'flew': 540, 'recommend': 1090, 'filthy': 533, 'cramped': 355, 'toilets': 1382, 'limited': 784, 'selection': 1198, 'hugely': 663, 'overpriced': 950, 'underwhelming': 1436, 'laughable': 764, 'particularly': 963, 'utterly': 1471, 'nonsensical': 908, 'ordering': 938, 'involves': 724, 'cashier': 248, 'impossible': 685, 'connect': 326, 'pass': 965, 'rushed': 1146, 'frankfurt': 560, 'worse': 1547, 'failed': 512, 'causing': 253, 'year': 1561, 'miss': 875, 'clt': 294, 'delta': 378, 'aircraft': 88, 'appalling': 123, 'manchester': 837, 'queued': 1064, 'ideal': 673, 'member': 855, 'whilst': 1526, 'pulling': 1055, 'facial': 507, 'expressions': 499, 'departed': 381, 'appalled': 122, 'rudeness': 1141, 'floors': 546, 'alternative': 101, 'busy': 227, 'organisation': 940, 'ridiculous': 1132, 'teenage': 1347, 'disrespectful': 420, 'uncalled': 1431, 'stupid': 1310, 'annoyed': 115, 'stunned': 1309, 'position': 1019, 'possibly': 1024, 'affecting': 75, 'ability': 53, 'board': 201, 'confronted': 322, 'forever': 557, 'inefficint': 696, 'taxes': 1344, 'courts': 354, 'expensive': 494, 'hated': 623, 'utter': 1470, 'disgrace': 411, 'water': 1509, 'banana': 180, 'costs': 343, '99': 52, 'size': 1245, 'poky': 1013, 'decent': 370, 'shopping': 1222, 'return': 1124, 'amazed': 102, 'facilities': 508, 'servicing': 1209, 'busiest': 226, 'manila': 839, 'philippine': 986, 'june': 742, 'transit': 1396, 'july': 741, 'seemingly': 1195, 'services': 1208, 'exciting': 485, 'typically': 1425, 'surprisingly': 1327, 'usually': 1469, 'pretty': 1031, 'unfortunately': 1439, 'extent': 502, 'positives': 1022, 'greeted': 598, 'facility': 509, 'appeared': 126, 'construction': 332, 'looked': 803, 'torn': 1386, 'basically': 187, 'waving': 1510, 'u': 1426, 'citizens': 277, 'wishing': 1535, 'personally': 983, 'informed': 701, 'parents': 961, 'picking': 992, 'exited': 489, 'delayed': 377, '45': 39, 'm': 820, 'transiting': 1397, 'hassle': 622, 'requires': 1110, 'exiting': 490, 'hallway': 610, 'airtrain': 95, 'stop': 1297, 'proper': 1049, 'course': 351, 'outside': 945, 'secure': 1191, 'beverage': 195, 'outlets': 943, 'appear': 125, 'range': 1074, 'relatively': 1098, 'borderline': 209, 'price': 1033, 'gouging': 595, 'notable': 910, 'dunkin': 445, 'donuts': 431, 'landside': 757, 'appears': 127, 'dining': 403, 'option': 934, 'available': 163, '24': 26, 'place': 998, '20': 21, 'meal': 848, 'voucher': 1489, 'middle': 865, 'night': 904, 'astonished': 152, 'struggled': 1307, 'manage': 832, 'drink': 440, 'sick': 1232, 'understand': 1433, 'accept': 58, 'smaller': 1252, 'losing': 806, 'deal': 368, 'add': 65, 'restrooms': 1120, 'sensors': 1202, 'automatically': 162, 'turn': 1421, 'sink': 1242, 'faucets': 518, 'near': 892, 'issue': 728, 'manhattan': 838, 've': 1475, 'heard': 629, 'heaven': 631, 'clearing': 286, 'checking': 270, 'watching': 1508, 'members': 856, 'floating': 544, 'met': 862, 'airline': 90, 'quick': 1067, 'orlando': 942, 'came': 235, 'wrong': 1557, 'signs': 1237, 'ended': 464, '50': 43, 'desk': 388, 'assistance': 150, 'ignored': 676, 'persuade': 985, 'fellow': 527, 'group': 600, 'collect': 299, 'changed': 258, 'minute': 872, 'running': 1145, 'information': 700, 'scene': 1168, 'hone': 645, 'bus': 225, 'fully': 566, 'expected': 492, 'lucky': 816, 'late': 763, 'closing': 293, 'thankfully': 1358, '2018': 22, 'iceland': 670, 'norway': 909, 'alaska': 97, 'overnight': 949, 'layover': 767, 'connection': 328, 'seattle': 1187, 'admit': 70, 'actually': 64, 'horribly': 652, 'restaurants': 1118, 'carts': 245, 'rip': 1136, 'scam': 1161, 'charging': 265, '6': 45, 'scream': 1174, 'toronto': 1387, 'charge': 263, 'helpful': 634, 'feel': 523, 'dimension': 401, 'ineptness': 698, 'wear': 1512, 'uniform': 1443, 'turns': 1422, 'thinks': 1367, 'head': 627, 'military': 866, 'police': 1014, 'travel': 1398, 'attitude': 156, 'happy': 618, 'doesn': 425, 'monday': 879, 'evening': 481, 'unnecessary': 1450, 'underworked': 1437, 'meant': 852, 'quickly': 1068, 'didn': 395, 'bother': 212, 'actual': 63, 'uninterested': 1445, 'misfortune': 874, 'leaves': 771, 'easy': 450, 'thanks': 1359, 'esta': 476, 'certain': 256, 'amusing': 108, 'wanting': 1502, 'stay': 1291, 'lovely': 813, 'illegally': 677, 'live': 792, 'florida': 547, 'assuming': 151, 'learn': 768, 'jobs': 737, 'spain': 1266, 'france': 559, 'netherlands': 899, 'czech': 364, 'germany': 577, 'south': 1264, 'america': 105, 'list': 788, 'spent': 1272, '40': 38, 'airplane': 92, 'sad': 1151, 'compared': 307, 'virgin': 1481, '0153': 1, '4pm': 41, 'thursday': 1373, '27th': 29, 'passed': 966, '22': 25, 'pm': 1009, 'heat': 630, 'horrendous': 650, 'babies': 174, 'elderly': 456, 'unmanned': 1448, 'signage': 1235, 'showed': 1229, 'regular': 1096, 'occurrence': 918, 'chaotic': 262, 'shameful': 1216, 'americans': 107, 'outraged': 944, 'management': 834, 'atrocious': 153, 'providing': 1052, 'shockingly': 1219, 'europe': 478, 'asia': 142, 'africa': 77, 'care': 238, 'packed': 953, 'countless': 348, 'rhyme': 1129, 'kiosk': 747, 'order': 936, 'queuing': 1066, 'hrs': 660, 'horror': 653, 'directions': 406, 'hardly': 620, 'tv': 1423, 'screens': 1177, 'attached': 154, 'wound': 1553, 'b51': 172, 'antiquated': 117, 'calibre': 232, 'demolished': 379, 'rebuilt': 1086, 'scratch': 1173, 'seats': 1186, 'terminals': 1353, 'eateries': 451, 'everybody': 482, 'selected': 1197, 'boss': 210, 'smiling': 1254, 'responding': 1115, 'today': 1380, 'older': 926, 'flexing': 541, '10': 5, 'family': 515, 'issues': 729, 'repeated': 1105, 'looking': 804, 'shooing': 1221, 'unprofessional': 1455, 'manager': 835, 'type': 1424, 'point': 1010, 'wasnt': 1507, 'gave': 573, 'inappropriate': 689, 'senior': 1201, 'managers': 836, 'coach': 295, 'ruin': 1142, 'queing': 1061, 'automatic': 161, 'capture': 237, 'picture': 993, 'rejected': 1097, 'fingerprints': 537, 'manual': 843, 'dumped': 444, 't4': 1335, 'redo': 1091, 'gates': 572, 'terribly': 1355, 'horrible': 651, 'hard': 619, 'figure': 532, 'layout': 766, 'walk': 1495, 'rain': 1070, 'change': 257, 'areas': 132, 'confusing': 324, 'returned': 1125, 'duty': 447, 'merchandise': 859, 'rudely': 1140, 'worker': 1543, 'confiscated': 321, 'brought': 221, 'jerk': 732, 'situation': 1244, 'consider': 330, 'patient': 974, 'tested': 1356, 'insane': 705, 'id': 672, '3rd': 36, 'class': 281, 'experiences': 497, 'attribute': 157, 'acted': 61, 'realized': 1083, 'yay': 1560, 'right': 1135, 'passes': 969, 'yelled': 1563, 'scanning': 1166, 'putting': 1059, 'carry': 243, 'bins': 198, 'belts': 193, 'continued': 334, 'roll': 1137, 'eyes': 504, 'yelling': 1564, 'staffed': 1277, 'thousands': 1370, 'trust': 1415, 'unorganised': 1452, 'mess': 861, 'grossly': 599, 'sending': 1200, 'memories': 857, 'majorly': 826, 'operation': 931, 'y': 1559, 'proud': 1051, 'restroom': 1119, 'urine': 1465, 'literally': 790, 'seat': 1183, 'imagine': 681, 'cleaned': 283, 'plug': 1008, 'laptop': 759, 'having': 626, 'leg': 774, 'kid': 746, 'stream': 1301, 'pandora': 956, 'music': 889, 'folks': 552, 'rate': 1076, '10pm': 7, 'hoping': 649, 'improved': 688, 'afraid': 76, 'shambles': 1214, 'supported': 1320, 'inputting': 704, 'interview': 718, 'hall': 609, 'overwhelmed': 951, 'stressed': 1302, 'exists': 488, 'dark': 365, 'letting': 778, 'thing': 1363, 'couldve': 345, 'entering': 469, 'dismal': 415, 'pathetic': 973, 'represent': 1107, 'arriving': 139, 'seven': 1213, 'unwelcoming': 1459, 'stressful': 1303, 'confusion': 325, 'lack': 753, 'clarity': 280, 'positions': 1020, 'responsible': 1116, 'opinion': 932, 'abrasive': 55, 'constantly': 331, 'unclear': 1432, 'voices': 1488, 'niggling': 903, 'instruction': 710, 'surely': 1324, 'sort': 1262, 'overhaul': 947, 'ironic': 726, 'prides': 1036, 'whats': 1524, 'gone': 590, 'favorite': 520, 'avoided': 166, 'werent': 1523, 'competitive': 309, 'fares': 517, 'able': 54, 'acquire': 59, 'routing': 1138, '30a': 32, '11': 8, 'discharged': 410, 'sea': 1181, 'returning': 1126, 'incoming': 691, 'organization': 941, 'apparent': 124, 'purpose': 1057, 'generating': 575, 'frustration': 565, 'husband': 669, 'passports': 971, 'cleared': 285, 'followed': 553, 'main': 823, 'lobby': 795, 'closed': 291, 'upstairs': 1463, 'joining': 738, 'departing': 382, 'starting': 1287, 'trips': 1412, 'ultimately': 1429, 'parcels': 960, 'inspected': 708, 'rifled': 1134, 'courteous': 352, 'genuinely': 576, 'concerned': 316, 'passenger': 967, 'comfort': 302, 'safety': 1152, 'antithesis': 118, 'embarrassing': 458, 'knowing': 750, 'millions': 867, 'sorry': 1261, 'act': 60, 'ny': 915, 'warned': 1504, 'degrading': 375, 'warm': 1503, 'friendly': 564, 'serve': 1206, 'wearily': 1513, 'jfks': 735, 'tuesday': 1420, 'suffer': 1314, 'penned': 979, 'duration': 446, 'advice': 73, 'lying': 819, 'corner': 341, 'adequate': 69, 'hungry': 668, 'staying': 1292, 'dinner': 404, 'local': 796, 'minus': 871, 'bite': 199, 'burger': 223, 'left': 773, 'tasted': 1342, 'non': 907, 'prepared': 1029, 'ketchup': 745, 'save': 1156, 'ratings': 1077, 'stars': 1285, 'closer': 292, 'thinking': 1366, 'vacation': 1472, 'ending': 465, 'badly': 176, 'feels': 525, 'potential': 1025, 'honest': 646, 'license': 780, 'cent': 255, 'wake': 1494, 'writing': 1556, 'hr': 659, 'estimate': 477, 'till': 1375, 'disabled': 408, 'bodied': 204, '60': 46, 'kiosks': 748, 'las': 761, 'vegas': 1476, 'apologies': 120, 'slightest': 1247, 'throne': 1372, 'start': 1286, '35': 35, 'mins': 870, 'means': 851, 'sight': 1234, 'professionalism': 1046, 'thirsty': 1368, 'refreshments': 1093, '33': 34, 'pills': 996, 'illnesses': 678, 'dry': 443, 'mouth': 885, 'common': 304, 'courtesy': 353, 'given': 581, 'supposedly': 1322, 'isnt': 727, 'purely': 1056, 'sack': 1149, 'planning': 1003, 'february': 522, 'rethinking': 1122, 'known': 751, 'photos': 989, 'inept': 697, 'making': 830, 'dealt': 369, 'swiftly': 1331, 'securely': 1192, 'review': 1127, 'allow': 98, 'zero': 1571, 'score': 1172, 'minimum': 869, 'fair': 513, 'stopped': 1298, 'searched': 1182, 'woman': 1537, 'women': 1538, 'setting': 1211, 'alarm': 96, 'adding': 66, 'conveyer': 338, 'shortest': 1225, 'piles': 995, 'priced': 1034, 'options': 935, 'burgers': 224, 'mentioned': 858, 'vegetarian': 1477, 'health': 628, 'conscious': 329, 'foot': 556, 'journey': 740, 'frankly': 561, 'equals': 473, 'ba': 173, 'invested': 723, 'fear': 521, 'honestly': 647, 'rarely': 1075, 'haul': 624, 'nightmare': 905, 'simply': 1240, 'makes': 829, 'timid': 1378, 'comparison': 308, 'youre': 1570, 'catching': 251, 'luck': 814, 'panicky': 958, 'stepped': 1295, 'inform': 699, 'wander': 1498, 'asks': 146, 'doing': 427, 'scan': 1162, 'man': 831, 'whispering': 1529, 'language': 758, 'exchanging': 484, 'looks': 805, 'enter': 468, 'comes': 301, 'icing': 671, 'cake': 231, 'dragged': 437, 'feet': 526, 'tells': 1350, 'sit': 1243, 'takes': 1338, 'suck': 1312, 'starts': 1288, 'intimidating': 720, 'telling': 1349, 'catch': 250, 'unsympathetic': 1458, 'continues': 335, 'disoriented': 418, 'hands': 614, 'seriously': 1205, 'employs': 461, 'luckily': 815, 'trouble': 1413, 'boy': 214, 'welcome': 1519, 'yorkers': 1568, 'brash': 216, 'obnoxious': 917, 'lax': 765, 'sunny': 1318, 'california': 233, 'interested': 715, 'weather': 1516, 'version': 1480, 'confirms': 320, 'slightly': 1248, '11am': 9, 'manning': 842, 'booth': 206, 'average': 164, 'wandering': 1499, 'fiasco': 530, 'bigger': 196, 'lunch': 818, 'dread': 438, 'renowned': 1104, 'allowed': 99, 'happen': 616, 'somebody': 1258, 'additional': 67, 'eva': 480, 'taipei': 1336, 'authorities': 159, 'parking': 962, 'spot': 1274, 'approx': 129, '16': 14, 'procedures': 1041, 'extensive': 500, 'plenty': 1007, 'wide': 1530, 'body': 205, 'aircrafts': 89, 'sleeping': 1246, 'break': 217, 'desert': 386, 'called': 234, 'replied': 1106, 'criminal': 356, 'agressive': 86, 'visitor': 1486, 'expect': 491, 'snobbish': 1257, 'try': 1417, 'b': 171, 'w': 1490, '53': 44, 'fact': 510, 'saw': 1157, 'public': 1053, 'ask': 143, 'worked': 1542, 'wearing': 1514, 'bothered': 213, 'unnecessarily': 1449, 'annocments': 112, 'loud': 809, 'annoying': 116, 'girl': 580, 'microphone': 864, 'ruined': 1143, 'mic': 863, 'speakers': 1267, 'announcements': 114, 'seoul': 1203, 'boston': 211, 'scheduled': 1169, 'depart': 380, 'signal': 1236, 'strong': 1306, 'web': 1517, 'changes': 259, 'shuttle': 1231, '13': 12, 'sandwiches': 1154, 'philippines': 987, 'loved': 812, 'frequent': 563, 'aware': 168, 'infuriated': 702, 'boarded': 202, 'stroller': 1305, 'smoking': 1255, 'write': 1555, 'tp': 1392, 'stuck': 1308, 'handfull': 612, 'cafe': 230, '1990': 18, 'disgusted': 413, 'hostile': 654, 'mainly': 824, 'overheard': 948, 'colleague': 298, 'scared': 1167, 'face': 505, 'pick': 990, 'suited': 1317, 'prison': 1038, 'representation': 1108, 'approach': 128, 'interact': 714, 'large': 760, 'groups': 601, 'whining': 1527, 'theirs': 1361, 'wanted': 1501, 'domestic': 428, 'differ': 397, 'enormously': 467, 'compact': 305, 'stores': 1299, 'requiring': 1111, 'virtually': 1482, 'existence': 487, 'glass': 584, 'panels': 957, 'ceilings': 254, 'electric': 457, 'points': 1012, 'eating': 452, 'places': 1000, 'wendys': 1520, 'dozen': 436, 'highly': 640, 'entrance': 472, 'required': 1109, 'dedicated': 373, 'space': 1265, 'uber': 1427, 'cars': 244, 'clients': 288, 'convenient': 337, 'pleased': 1005, 'especially': 475, 'warning': 1505, 'black': 200, 'suit': 1316, 'tie': 1374, 'yes': 1566, 'suv': 1330, 'cheaper': 267, 'taxis': 1346, '8': 49, 'tolls': 1384, 'cash': 247, 'charges': 264, '160': 15, 'ride': 1130, 'tip': 1379, 'yellow': 1565, 'cab': 229, 'unorganized': 1453, 'handicap': 613, 'merged': 860}\n"
     ]
    }
   ],
   "source": [
    "### Generate document term matrix by using scikit-learn's CountVectorizer\n",
    "\n",
    "token= RegexpTokenizer(r'\\w+')\n",
    "\n",
    "cv = CountVectorizer(lowercase=True,stop_words='english',ngram_range = (1,1),tokenizer = token.tokenize )\n",
    "text_counts= cv.fit_transform(df_sen['Reviews'])\n",
    "\n",
    "print(cv.vocabulary_) # assign a number(weight) to each word\n"
   ]
  },
  {
   "cell_type": "code",
   "execution_count": 26,
   "metadata": {},
   "outputs": [
    {
     "name": "stdout",
     "output_type": "stream",
     "text": [
      "  (0, 272)\t1\n",
      "  (0, 1193)\t1\n",
      "  (0, 1139)\t1\n",
      "  (0, 434)\t1\n",
      "  (0, 1440)\t1\n",
      "  (0, 1376)\t1\n",
      "  (0, 1042)\t1\n",
      "  (0, 79)\t1\n",
      "  (0, 1339)\t1\n",
      "  (0, 1341)\t1\n",
      "  (0, 785)\t1\n",
      "  (0, 145)\t1\n",
      "  (0, 361)\t1\n",
      "  (0, 266)\t1\n",
      "  (0, 1196)\t1\n",
      "  (0, 658)\t1\n",
      "  (0, 20)\t1\n",
      "  (0, 432)\t1\n",
      "  (0, 391)\t1\n",
      "  (0, 1276)\t2\n",
      "  (0, 1250)\t1\n",
      "  (0, 1039)\t1\n",
      "  (0, 1065)\t2\n",
      "  (0, 662)\t1\n",
      "  (0, 138)\t1\n",
      "  :\t:\n",
      "  (65, 783)\t1\n",
      "  (65, 1376)\t1\n",
      "  (65, 785)\t1\n",
      "  (66, 860)\t1\n",
      "  (66, 613)\t2\n",
      "  (66, 1453)\t1\n",
      "  (66, 1429)\t1\n",
      "  (66, 174)\t2\n",
      "  (66, 1272)\t1\n",
      "  (66, 838)\t1\n",
      "  (66, 1282)\t1\n",
      "  (66, 448)\t1\n",
      "  (66, 550)\t1\n",
      "  (66, 94)\t1\n",
      "  (66, 786)\t1\n",
      "  (66, 1511)\t1\n",
      "  (66, 516)\t1\n",
      "  (66, 470)\t1\n",
      "  (66, 636)\t1\n",
      "  (66, 1204)\t1\n",
      "  (66, 1376)\t1\n",
      "  (66, 785)\t3\n",
      "  (66, 138)\t1\n",
      "  (66, 730)\t1\n",
      "  (66, 93)\t1\n"
     ]
    }
   ],
   "source": [
    "# print the count of each number assign to each word \n",
    "\n",
    "print(text_counts)"
   ]
  },
  {
   "cell_type": "code",
   "execution_count": 27,
   "metadata": {},
   "outputs": [
    {
     "name": "stdout",
     "output_type": "stream",
     "text": [
      "TfidfTransformer(norm='l2', smooth_idf=True, sublinear_tf=False, use_idf=True) \n",
      "\n",
      "  (0, 1548)\t0.2231192102862809\n",
      "  (0, 1440)\t0.18921519168495865\n",
      "  (0, 1376)\t0.10485945326723847\n",
      "  (0, 1341)\t0.2009108519517124\n",
      "  (0, 1339)\t0.17157961608557593\n",
      "  (0, 1276)\t0.16582703694793977\n",
      "  (0, 1250)\t0.23724089102719562\n",
      "  (0, 1196)\t0.17157961608557593\n",
      "  (0, 1193)\t0.09708029072173928\n",
      "  (0, 1139)\t0.11655511353399221\n",
      "  (0, 1065)\t0.32916162575245833\n",
      "  (0, 1042)\t0.17157961608557593\n",
      "  (0, 1039)\t0.2009108519517124\n",
      "  (0, 785)\t0.14788964421862366\n",
      "  (0, 730)\t0.13524957701009271\n",
      "  (0, 662)\t0.17157961608557593\n",
      "  (0, 658)\t0.12207739185844521\n",
      "  (0, 434)\t0.23724089102719562\n",
      "  (0, 432)\t0.21598918051830363\n",
      "  (0, 391)\t0.21598918051830363\n",
      "  (0, 361)\t0.18921519168495865\n",
      "  (0, 272)\t0.23724089102719562\n",
      "  (0, 266)\t0.21598918051830363\n",
      "  (0, 145)\t0.23724089102719562\n",
      "  (0, 138)\t0.11655511353399221\n",
      "  :\t:\n",
      "  (65, 43)\t0.10319730206612363\n",
      "  (65, 15)\t0.1218581259097645\n",
      "  (65, 5)\t0.10319730206612363\n",
      "  (66, 1511)\t0.14327935392045923\n",
      "  (66, 1453)\t0.21458413528635897\n",
      "  (66, 1429)\t0.1953619855837436\n",
      "  (66, 1376)\t0.09484526469499459\n",
      "  (66, 1282)\t0.15519358147355877\n",
      "  (66, 1272)\t0.1953619855837436\n",
      "  (66, 1204)\t0.1953619855837436\n",
      "  (66, 860)\t0.21458413528635897\n",
      "  (66, 838)\t0.1953619855837436\n",
      "  (66, 786)\t0.13376602694862913\n",
      "  (66, 785)\t0.40129808084588736\n",
      "  (66, 730)\t0.12233309951288977\n",
      "  (66, 636)\t0.18172365332569\n",
      "  (66, 613)\t0.42916827057271795\n",
      "  (66, 550)\t0.14327935392045923\n",
      "  (66, 516)\t0.148863171365021\n",
      "  (66, 470)\t0.18172365332569\n",
      "  (66, 448)\t0.17114494097101127\n",
      "  (66, 174)\t0.3907239711674872\n",
      "  (66, 138)\t0.1054239770496733\n",
      "  (66, 94)\t0.1296410216624056\n",
      "  (66, 93)\t0.07025046784960541\n"
     ]
    }
   ],
   "source": [
    "# Transform a count matrix to a normalized  tf-idf representation\n",
    "# tf-idf(Term Frequency - Inverse Document-Frequency ) helps to know the most significant words in a document\n",
    "\n",
    "from sklearn.feature_extraction.text import TfidfTransformer\n",
    "tfidf_transformer = TfidfTransformer().fit(text_counts)\n",
    "print(tfidf_transformer,\"\\n\")\n",
    "\n",
    "reviews_tfidf = tfidf_transformer.transform(text_counts)\n",
    "print(reviews_tfidf)"
   ]
  },
  {
   "cell_type": "code",
   "execution_count": 28,
   "metadata": {},
   "outputs": [
    {
     "name": "stdout",
     "output_type": "stream",
     "text": [
      "(67, 1573)\n"
     ]
    }
   ],
   "source": [
    "print(reviews_tfidf.shape)"
   ]
  },
  {
   "cell_type": "code",
   "execution_count": 29,
   "metadata": {},
   "outputs": [],
   "source": [
    "# Multinomial Naive Bayes Algorithm – It is used to classify on words occurrence.\n",
    "\n",
    "model = MultinomialNB().fit(reviews_tfidf, df_sen['Sentiments'])"
   ]
  },
  {
   "cell_type": "code",
   "execution_count": 30,
   "metadata": {},
   "outputs": [
    {
     "name": "stdout",
     "output_type": "stream",
     "text": [
      "['Negative' 'Negative' 'Negative' 'Negative' 'Negative' 'Negative'\n",
      " 'Negative' 'Negative' 'Negative' 'Negative' 'Negative' 'Negative'\n",
      " 'Negative' 'Negative' 'Negative' 'Negative' 'Negative' 'Negative'\n",
      " 'Positive' 'Negative' 'Negative' 'Negative' 'Negative' 'Positive'\n",
      " 'Negative' 'Negative' 'Negative' 'Negative' 'Negative' 'Negative'\n",
      " 'Negative' 'Negative' 'Negative' 'Negative' 'Negative' 'Negative'\n",
      " 'Negative' 'Negative' 'Negative' 'Negative' 'Negative' 'Negative'\n",
      " 'Negative' 'Negative' 'Negative' 'Negative' 'Negative' 'Negative'\n",
      " 'Negative' 'Negative' 'Negative' 'Negative' 'Negative' 'Negative'\n",
      " 'Negative' 'Negative' 'Negative' 'Negative' 'Negative' 'Negative'\n",
      " 'Negative' 'Negative' 'Negative' 'Negative' 'Negative' 'Negative'\n",
      " 'Negative']\n"
     ]
    }
   ],
   "source": [
    "# Predict our model\n",
    "\n",
    "all_predictions = model.predict(reviews_tfidf)\n",
    "print(all_predictions)"
   ]
  },
  {
   "cell_type": "markdown",
   "metadata": {},
   "source": [
    "#### Preprocessing method:  Split train and test set (TF-IDF)"
   ]
  },
  {
   "cell_type": "code",
   "execution_count": 31,
   "metadata": {},
   "outputs": [],
   "source": [
    "# Use Split train and test set (TF-IDF)\n",
    "\n",
    "from sklearn.model_selection import train_test_split\n",
    "\n",
    "X_train, X_test, y_train, y_test = train_test_split(\n",
    "reviews_tfidf, df_sen['Sentiments'], test_size=0.3, random_state=42)\n",
    "    "
   ]
  },
  {
   "cell_type": "code",
   "execution_count": 32,
   "metadata": {},
   "outputs": [
    {
     "name": "stdout",
     "output_type": "stream",
     "text": [
      "MultinomialNB Accuracy: 0.6190476190476191\n"
     ]
    }
   ],
   "source": [
    "# Model Generation Using Multinomial Naive Bayes\n",
    "\n",
    "clf = MultinomialNB().fit(X_train, y_train)\n",
    "predicted= clf.predict(X_test)\n",
    "print(\"MultinomialNB Accuracy:\",metrics.accuracy_score(y_test, predicted))"
   ]
  },
  {
   "cell_type": "markdown",
   "metadata": {},
   "source": [
    "We got a classification rate of 61.90% using TF-IDF features, which is not considered as good accuracy.\n",
    "\n",
    "We need to improve the accuracy by using some other preprocessing or feature engineering."
   ]
  },
  {
   "cell_type": "code",
   "execution_count": 33,
   "metadata": {},
   "outputs": [
    {
     "data": {
      "text/plain": [
       "array([[46,  0,  0],\n",
       "       [ 1,  0,  0],\n",
       "       [18,  0,  2]], dtype=int64)"
      ]
     },
     "execution_count": 33,
     "metadata": {},
     "output_type": "execute_result"
    }
   ],
   "source": [
    "# Print confusion matrix of our prediction\n",
    "from sklearn.metrics import classification_report,confusion_matrix\n",
    "\n",
    "confusion_matrix(df_sen['Sentiments'], all_predictions )"
   ]
  },
  {
   "cell_type": "code",
   "execution_count": 34,
   "metadata": {},
   "outputs": [
    {
     "name": "stdout",
     "output_type": "stream",
     "text": [
      "              precision    recall  f1-score   support\n",
      "\n",
      "    Negative       0.71      1.00      0.83        46\n",
      "     Neutral       0.00      0.00      0.00         1\n",
      "    Positive       1.00      0.10      0.18        20\n",
      "\n",
      "   micro avg       0.72      0.72      0.72        67\n",
      "   macro avg       0.57      0.37      0.34        67\n",
      "weighted avg       0.78      0.72      0.62        67\n",
      "\n"
     ]
    },
    {
     "name": "stderr",
     "output_type": "stream",
     "text": [
      "C:\\ProgramData\\Anaconda3\\lib\\site-packages\\sklearn\\metrics\\classification.py:1143: UndefinedMetricWarning: Precision and F-score are ill-defined and being set to 0.0 in labels with no predicted samples.\n",
      "  'precision', 'predicted', average, warn_for)\n"
     ]
    }
   ],
   "source": [
    "print(classification_report(df_sen['Sentiments'], all_predictions))"
   ]
  },
  {
   "cell_type": "markdown",
   "metadata": {},
   "source": [
    "Confusion Matrix:\n",
    "A confusion matrix is a summary of prediction results on a classification problem. \n",
    "The number of correct and incorrect predictions are summarized with count values and broken down by each class."
   ]
  },
  {
   "cell_type": "markdown",
   "metadata": {},
   "source": [
    "#### Another preprocessing: function train_test_split(CountVector(or BoW))"
   ]
  },
  {
   "cell_type": "code",
   "execution_count": 35,
   "metadata": {},
   "outputs": [],
   "source": [
    "### Let's split dataset by using function train_test_split(). \n",
    "\n",
    "from sklearn.model_selection import train_test_split\n",
    "X_train, X_test, y_train, y_test = train_test_split(\n",
    "    text_counts, df_sen['Sentiments'], test_size=0.3, random_state=1)"
   ]
  },
  {
   "cell_type": "code",
   "execution_count": 36,
   "metadata": {},
   "outputs": [
    {
     "name": "stdout",
     "output_type": "stream",
     "text": [
      "MultinomialNB Accuracy: 0.8095238095238095\n"
     ]
    }
   ],
   "source": [
    "# Model Generation Using Multinomial Naive Bayes\n",
    "\n",
    "clf = MultinomialNB().fit(X_train, y_train)\n",
    "predicted= clf.predict(X_test)\n",
    "print(\"MultinomialNB Accuracy:\",metrics.accuracy_score(y_test, predicted))"
   ]
  },
  {
   "cell_type": "markdown",
   "metadata": {},
   "source": [
    "We got a classification rate of 80.95% using train_test_split() features, which is considered as good accuracy."
   ]
  },
  {
   "cell_type": "code",
   "execution_count": 37,
   "metadata": {
    "scrolled": true
   },
   "outputs": [
    {
     "name": "stdout",
     "output_type": "stream",
     "text": [
      "Topic 1: tell,staff,lady,rude,customs,just,sorry,flight,im,airport\n",
      "Topic 2: philippine,seemingly,voucher,20,delayed,jfk,jetblue,terminal,s,flight\n",
      "Topic 3: children,wand,droid,harry,potter,5,took,3,world,security\n",
      "Topic 4: florida,happy,priority,make,love,4,people,coming,jfk,staff\n",
      "Topic 5: security,really,airport,customers,placed,separate,tsa,clear,line,precheck\n",
      "Topic 6: recommend,size,high,seating,quite,delta,gate,4,2,terminal\n",
      "Topic 7: t,departures,going,guard,identify,hours,arrivals,spoke,flight,security\n",
      "Topic 8: lot,treated,bags,uk,people,trays,rude,shouted,security,shoes\n",
      "Topic 9: advice,score,hour,horrendous,customer,service,start,actually,1,queue\n",
      "Topic 10: come,maybe,flights,way,control,experience,today,line,connecting,passengers\n",
      "Topic 11: having,stars,like,2,1,restaurants,bad,really,food,jfk\n",
      "Topic 12: 2,customs,jfk,queue,got,worst,just,experience,airport,t\n",
      "Topic 13: staff,woman,ive,wait,long,burgers,limited,really,security,airport\n",
      "Topic 14: totally,rude,hours,member,arrived,flight,2,like,people,staff\n",
      "Topic 15: finally,screen,real,hand,unsteadily,cast,security,people,stand,officer\n",
      "Topic 16: hardly,told,asked,arrived,got,connecting,queue,just,flight,gate\n",
      "Topic 17: visit,service,arrival,basic,ive,jfk,airports,long,rude,immigration\n",
      "Topic 18: home,arrived,time,tsa,locked,glasses,case,checked,open,bag\n",
      "Topic 19: customer,extremely,way,line,told,member,service,informed,experience,tsa\n",
      "Topic 20: asked,like,waiting,just,hour,time,stupid,black,said,taxi\n"
     ]
    }
   ],
   "source": [
    "# Identify the mains topics\n",
    "# apply NMF\n",
    "\n",
    "from sklearn.decomposition import NMF\n",
    "idx_to_word = np.array(cv.get_feature_names())\n",
    "\n",
    "nmf = NMF(n_components=20, solver=\"mu\")\n",
    "W = nmf.fit_transform(text_counts)\n",
    "H = nmf.components_\n",
    "# print the topics\n",
    "for i, topic in enumerate(H):\n",
    "    print(\"Topic {}: {}\".format(i + 1, \",\".join([str(x) for x in idx_to_word [topic.argsort()[-10:]]])))"
   ]
  },
  {
   "cell_type": "code",
   "execution_count": null,
   "metadata": {},
   "outputs": [],
   "source": []
  },
  {
   "cell_type": "markdown",
   "metadata": {},
   "source": [
    "### ParallelDots"
   ]
  },
  {
   "cell_type": "code",
   "execution_count": 38,
   "metadata": {},
   "outputs": [],
   "source": [
    "### We used Jupyter just to plot the paralleldots analysis"
   ]
  },
  {
   "cell_type": "code",
   "execution_count": 39,
   "metadata": {},
   "outputs": [
    {
     "data": {
      "image/png": "[encoded data removed]",
      "text/plain": [
       "<Figure size 720x360 with 1 Axes>"
      ]
     },
     "metadata": {
      "needs_background": "light"
     },
     "output_type": "display_data"
    }
   ],
   "source": [
    "# Plot of sentiment table in ParallelDots\n",
    "\n",
    "d = {'columns': ['Positive', 'Neutral', 'Negative'],\n",
    "     'data': [[4.9, 27.5, 67.6]],\n",
    "     'index': [1]}\n",
    "df = pd.DataFrame(d['data'], columns=d['columns'], index=d['index'])\n",
    "df.columns.names = ['Sentiment']\n",
    "\n",
    "row = df.iloc[0]\n",
    "row.plot(kind='barh', color=['C0', 'C1', 'C2'], figsize=(10,5))\n",
    "plt.xlabel('Percentage', fontweight= 'bold', fontsize = '16')\n",
    "plt.ylabel('Sentiment', fontweight= 'bold', fontsize = '16')\n",
    "plt.show()\n"
   ]
  },
  {
   "cell_type": "code",
   "execution_count": 40,
   "metadata": {},
   "outputs": [
    {
     "data": {
      "image/png": "[encoded data removed]",
      "text/plain": [
       "<Figure size 720x360 with 1 Axes>"
      ]
     },
     "metadata": {
      "needs_background": "light"
     },
     "output_type": "display_data"
    }
   ],
   "source": [
    "# Plot of the emotion table in ParallelDots\n",
    "\n",
    "d = {'columns': ['Happy', 'Excited', 'Bored', 'Angry', 'Fear', 'Sad'],\n",
    "     'data': [[4.12, 4.64, 12.46, 18.73, 29.84, 30.21]],\n",
    "     'index': [1]} \n",
    "df = pd.DataFrame(d['data'], columns=d['columns'], index=d['index'])\n",
    "#df.columns.names = ['Emotions']\n",
    "\n",
    "row = df.iloc[0]\n",
    "row.plot(kind='barh', color=['C0', 'C1', 'C2', 'C3', 'C4', 'C5'], figsize=(10,5))\n",
    "plt.xlabel('Percentage', fontweight= 'bold', fontsize = '16')\n",
    "plt.ylabel('Emotions', fontweight= 'bold', fontsize = '16')\n",
    "plt.show()"
   ]
  },
  {
   "cell_type": "code",
   "execution_count": 41,
   "metadata": {},
   "outputs": [
    {
     "data": {
      "image/png": "[encoded data removed]",
      "text/plain": [
       "<Figure size 720x360 with 1 Axes>"
      ]
     },
     "metadata": {
      "needs_background": "light"
     },
     "output_type": "display_data"
    }
   ],
   "source": [
    "# # Plot of the intent table in ParallelDots\n",
    "\n",
    "d = {'columns': ['Query', 'News', 'Spam', 'Feedback', 'Marketing'],\n",
    "     'data': [[44.8, 24.20, 15.8, 14.98, 1.22]],\n",
    "     'index': [1]}\n",
    "df = pd.DataFrame(d['data'], columns=d['columns'], index=d['index'])\n",
    "df.columns.names = ['Intent']\n",
    "\n",
    "row = df.iloc[0]\n",
    "row.plot(kind='barh', color=['C0', 'C1', 'C2'], figsize=(10,5))\n",
    "plt.xlabel('Percentage', fontweight= 'bold', fontsize = '16')\n",
    "plt.ylabel('Intent', fontweight= 'bold', fontsize = '16')\n",
    "plt.show()"
   ]
  },
  {
   "cell_type": "code",
   "execution_count": null,
   "metadata": {},
   "outputs": [],
   "source": []
  }
 ],
 "metadata": {
  "kernelspec": {
   "display_name": "Python 3",
   "language": "python",
   "name": "python3"
  },
  "language_info": {
   "codemirror_mode": {
    "name": "ipython",
    "version": 3
   },
   "file_extension": ".py",
   "mimetype": "text/x-python",
   "name": "python",
   "nbconvert_exporter": "python",
   "pygments_lexer": "ipython3",
   "version": "3.7.3"
  }
 },
 "nbformat": 4,
 "nbformat_minor": 2
}
